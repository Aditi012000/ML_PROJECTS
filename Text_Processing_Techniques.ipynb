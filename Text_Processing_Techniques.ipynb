{
  "nbformat": 4,
  "nbformat_minor": 0,
  "metadata": {
    "colab": {
      "provenance": []
    },
    "kernelspec": {
      "name": "python3",
      "display_name": "Python 3"
    },
    "language_info": {
      "name": "python"
    }
  },
  "cells": [
    {
      "cell_type": "markdown",
      "source": [
        "# Lab Assignment 1: Text Processing Techniques\n",
        "**Author:** Aditi Krishna Priya Manikantan   \n",
        "**ASU ID:** 1230651112  \n",
        "**Date:** 12/01/2024   "
      ],
      "metadata": {
        "id": "_-bec7ZgKdJ-"
      }
    },
    {
      "cell_type": "code",
      "source": [
        "#importing the necessary libraries\n",
        "import pandas as pd\n",
        "import spacy"
      ],
      "metadata": {
        "id": "ERdo8SP3Khcr"
      },
      "execution_count": 7,
      "outputs": []
    },
    {
      "cell_type": "markdown",
      "source": [
        "1. Library and data import. Show the summary of the input data"
      ],
      "metadata": {
        "id": "sFQE5wTLET-v"
      }
    },
    {
      "cell_type": "code",
      "source": [
        "df = pd.read_csv('restaurant_reviews_az.csv')"
      ],
      "metadata": {
        "id": "pMVI61vpLQlo"
      },
      "execution_count": 10,
      "outputs": []
    },
    {
      "cell_type": "code",
      "source": [
        "df.head()"
      ],
      "metadata": {
        "colab": {
          "base_uri": "https://localhost:8080/",
          "height": 466
        },
        "id": "d0W0Qi2pLRBT",
        "outputId": "60e64b5e-6d84-48a6-d505-eb52b16a7f27"
      },
      "execution_count": 12,
      "outputs": [
        {
          "output_type": "execute_result",
          "data": {
            "text/plain": [
              "                review_id                 user_id             business_id  \\\n",
              "0  IVS7do_HBzroiCiymNdxDg  fdFgZQQYQJeEAshH4lxSfQ  sGy67CpJctjeCWClWqonjA   \n",
              "1  QP2pSzSqpJTMWOCuUuyXkQ  JBLWSXBTKFvJYYiM-FnCOQ  3w7NRntdQ9h0KwDsksIt5Q   \n",
              "2  oK0cGYStgDOusZKz9B1qug  2_9fKnXChUjC5xArfF8BLg  OMnPtRGmbY8qH_wIILfYKA   \n",
              "3  E_ABvFCNVLbfOgRg3Pv1KQ  9MExTQ76GSKhxSWnTS901g  V9XlikTxq0My4gE8LULsjw   \n",
              "4  Rd222CrrnXkXukR2iWj69g  LPxuausjvDN88uPr-Q4cQA  CA5BOxKRDPGJgdUQ8OUOpw   \n",
              "\n",
              "   stars  useful  funny  cool  \\\n",
              "0      3       1      1     0   \n",
              "1      5       1      1     1   \n",
              "2      5       1      0     0   \n",
              "3      5       0      0     0   \n",
              "4      4       1      0     0   \n",
              "\n",
              "                                                text                 date  \n",
              "0  OK, the hype about having Hatch chili in your ...  2020-01-27 22:59:06  \n",
              "1  Pandemic pit stop to have an ice cream.... onl...  2020-04-19 05:33:16  \n",
              "2  I was lucky enough to go to the soft opening a...  2020-02-29 19:43:44  \n",
              "3  I've gone to claim Jumpers all over the US and...  2020-03-14 21:47:07  \n",
              "4  If you haven't been  to Maynard's kitchen, it'...  2020-01-17 20:32:57  "
            ],
            "text/html": [
              "\n",
              "  <div id=\"df-94395ef4-f161-44e2-8644-d82f48f36933\" class=\"colab-df-container\">\n",
              "    <div>\n",
              "<style scoped>\n",
              "    .dataframe tbody tr th:only-of-type {\n",
              "        vertical-align: middle;\n",
              "    }\n",
              "\n",
              "    .dataframe tbody tr th {\n",
              "        vertical-align: top;\n",
              "    }\n",
              "\n",
              "    .dataframe thead th {\n",
              "        text-align: right;\n",
              "    }\n",
              "</style>\n",
              "<table border=\"1\" class=\"dataframe\">\n",
              "  <thead>\n",
              "    <tr style=\"text-align: right;\">\n",
              "      <th></th>\n",
              "      <th>review_id</th>\n",
              "      <th>user_id</th>\n",
              "      <th>business_id</th>\n",
              "      <th>stars</th>\n",
              "      <th>useful</th>\n",
              "      <th>funny</th>\n",
              "      <th>cool</th>\n",
              "      <th>text</th>\n",
              "      <th>date</th>\n",
              "    </tr>\n",
              "  </thead>\n",
              "  <tbody>\n",
              "    <tr>\n",
              "      <th>0</th>\n",
              "      <td>IVS7do_HBzroiCiymNdxDg</td>\n",
              "      <td>fdFgZQQYQJeEAshH4lxSfQ</td>\n",
              "      <td>sGy67CpJctjeCWClWqonjA</td>\n",
              "      <td>3</td>\n",
              "      <td>1</td>\n",
              "      <td>1</td>\n",
              "      <td>0</td>\n",
              "      <td>OK, the hype about having Hatch chili in your ...</td>\n",
              "      <td>2020-01-27 22:59:06</td>\n",
              "    </tr>\n",
              "    <tr>\n",
              "      <th>1</th>\n",
              "      <td>QP2pSzSqpJTMWOCuUuyXkQ</td>\n",
              "      <td>JBLWSXBTKFvJYYiM-FnCOQ</td>\n",
              "      <td>3w7NRntdQ9h0KwDsksIt5Q</td>\n",
              "      <td>5</td>\n",
              "      <td>1</td>\n",
              "      <td>1</td>\n",
              "      <td>1</td>\n",
              "      <td>Pandemic pit stop to have an ice cream.... onl...</td>\n",
              "      <td>2020-04-19 05:33:16</td>\n",
              "    </tr>\n",
              "    <tr>\n",
              "      <th>2</th>\n",
              "      <td>oK0cGYStgDOusZKz9B1qug</td>\n",
              "      <td>2_9fKnXChUjC5xArfF8BLg</td>\n",
              "      <td>OMnPtRGmbY8qH_wIILfYKA</td>\n",
              "      <td>5</td>\n",
              "      <td>1</td>\n",
              "      <td>0</td>\n",
              "      <td>0</td>\n",
              "      <td>I was lucky enough to go to the soft opening a...</td>\n",
              "      <td>2020-02-29 19:43:44</td>\n",
              "    </tr>\n",
              "    <tr>\n",
              "      <th>3</th>\n",
              "      <td>E_ABvFCNVLbfOgRg3Pv1KQ</td>\n",
              "      <td>9MExTQ76GSKhxSWnTS901g</td>\n",
              "      <td>V9XlikTxq0My4gE8LULsjw</td>\n",
              "      <td>5</td>\n",
              "      <td>0</td>\n",
              "      <td>0</td>\n",
              "      <td>0</td>\n",
              "      <td>I've gone to claim Jumpers all over the US and...</td>\n",
              "      <td>2020-03-14 21:47:07</td>\n",
              "    </tr>\n",
              "    <tr>\n",
              "      <th>4</th>\n",
              "      <td>Rd222CrrnXkXukR2iWj69g</td>\n",
              "      <td>LPxuausjvDN88uPr-Q4cQA</td>\n",
              "      <td>CA5BOxKRDPGJgdUQ8OUOpw</td>\n",
              "      <td>4</td>\n",
              "      <td>1</td>\n",
              "      <td>0</td>\n",
              "      <td>0</td>\n",
              "      <td>If you haven't been  to Maynard's kitchen, it'...</td>\n",
              "      <td>2020-01-17 20:32:57</td>\n",
              "    </tr>\n",
              "  </tbody>\n",
              "</table>\n",
              "</div>\n",
              "    <div class=\"colab-df-buttons\">\n",
              "\n",
              "  <div class=\"colab-df-container\">\n",
              "    <button class=\"colab-df-convert\" onclick=\"convertToInteractive('df-94395ef4-f161-44e2-8644-d82f48f36933')\"\n",
              "            title=\"Convert this dataframe to an interactive table.\"\n",
              "            style=\"display:none;\">\n",
              "\n",
              "  <svg xmlns=\"http://www.w3.org/2000/svg\" height=\"24px\" viewBox=\"0 -960 960 960\">\n",
              "    <path d=\"M120-120v-720h720v720H120Zm60-500h600v-160H180v160Zm220 220h160v-160H400v160Zm0 220h160v-160H400v160ZM180-400h160v-160H180v160Zm440 0h160v-160H620v160ZM180-180h160v-160H180v160Zm440 0h160v-160H620v160Z\"/>\n",
              "  </svg>\n",
              "    </button>\n",
              "\n",
              "  <style>\n",
              "    .colab-df-container {\n",
              "      display:flex;\n",
              "      gap: 12px;\n",
              "    }\n",
              "\n",
              "    .colab-df-convert {\n",
              "      background-color: #E8F0FE;\n",
              "      border: none;\n",
              "      border-radius: 50%;\n",
              "      cursor: pointer;\n",
              "      display: none;\n",
              "      fill: #1967D2;\n",
              "      height: 32px;\n",
              "      padding: 0 0 0 0;\n",
              "      width: 32px;\n",
              "    }\n",
              "\n",
              "    .colab-df-convert:hover {\n",
              "      background-color: #E2EBFA;\n",
              "      box-shadow: 0px 1px 2px rgba(60, 64, 67, 0.3), 0px 1px 3px 1px rgba(60, 64, 67, 0.15);\n",
              "      fill: #174EA6;\n",
              "    }\n",
              "\n",
              "    .colab-df-buttons div {\n",
              "      margin-bottom: 4px;\n",
              "    }\n",
              "\n",
              "    [theme=dark] .colab-df-convert {\n",
              "      background-color: #3B4455;\n",
              "      fill: #D2E3FC;\n",
              "    }\n",
              "\n",
              "    [theme=dark] .colab-df-convert:hover {\n",
              "      background-color: #434B5C;\n",
              "      box-shadow: 0px 1px 3px 1px rgba(0, 0, 0, 0.15);\n",
              "      filter: drop-shadow(0px 1px 2px rgba(0, 0, 0, 0.3));\n",
              "      fill: #FFFFFF;\n",
              "    }\n",
              "  </style>\n",
              "\n",
              "    <script>\n",
              "      const buttonEl =\n",
              "        document.querySelector('#df-94395ef4-f161-44e2-8644-d82f48f36933 button.colab-df-convert');\n",
              "      buttonEl.style.display =\n",
              "        google.colab.kernel.accessAllowed ? 'block' : 'none';\n",
              "\n",
              "      async function convertToInteractive(key) {\n",
              "        const element = document.querySelector('#df-94395ef4-f161-44e2-8644-d82f48f36933');\n",
              "        const dataTable =\n",
              "          await google.colab.kernel.invokeFunction('convertToInteractive',\n",
              "                                                    [key], {});\n",
              "        if (!dataTable) return;\n",
              "\n",
              "        const docLinkHtml = 'Like what you see? Visit the ' +\n",
              "          '<a target=\"_blank\" href=https://colab.research.google.com/notebooks/data_table.ipynb>data table notebook</a>'\n",
              "          + ' to learn more about interactive tables.';\n",
              "        element.innerHTML = '';\n",
              "        dataTable['output_type'] = 'display_data';\n",
              "        await google.colab.output.renderOutput(dataTable, element);\n",
              "        const docLink = document.createElement('div');\n",
              "        docLink.innerHTML = docLinkHtml;\n",
              "        element.appendChild(docLink);\n",
              "      }\n",
              "    </script>\n",
              "  </div>\n",
              "\n",
              "\n",
              "<div id=\"df-f9e483c4-dc69-4bd9-ae26-44f25f7c9a7f\">\n",
              "  <button class=\"colab-df-quickchart\" onclick=\"quickchart('df-f9e483c4-dc69-4bd9-ae26-44f25f7c9a7f')\"\n",
              "            title=\"Suggest charts\"\n",
              "            style=\"display:none;\">\n",
              "\n",
              "<svg xmlns=\"http://www.w3.org/2000/svg\" height=\"24px\"viewBox=\"0 0 24 24\"\n",
              "     width=\"24px\">\n",
              "    <g>\n",
              "        <path d=\"M19 3H5c-1.1 0-2 .9-2 2v14c0 1.1.9 2 2 2h14c1.1 0 2-.9 2-2V5c0-1.1-.9-2-2-2zM9 17H7v-7h2v7zm4 0h-2V7h2v10zm4 0h-2v-4h2v4z\"/>\n",
              "    </g>\n",
              "</svg>\n",
              "  </button>\n",
              "\n",
              "<style>\n",
              "  .colab-df-quickchart {\n",
              "      --bg-color: #E8F0FE;\n",
              "      --fill-color: #1967D2;\n",
              "      --hover-bg-color: #E2EBFA;\n",
              "      --hover-fill-color: #174EA6;\n",
              "      --disabled-fill-color: #AAA;\n",
              "      --disabled-bg-color: #DDD;\n",
              "  }\n",
              "\n",
              "  [theme=dark] .colab-df-quickchart {\n",
              "      --bg-color: #3B4455;\n",
              "      --fill-color: #D2E3FC;\n",
              "      --hover-bg-color: #434B5C;\n",
              "      --hover-fill-color: #FFFFFF;\n",
              "      --disabled-bg-color: #3B4455;\n",
              "      --disabled-fill-color: #666;\n",
              "  }\n",
              "\n",
              "  .colab-df-quickchart {\n",
              "    background-color: var(--bg-color);\n",
              "    border: none;\n",
              "    border-radius: 50%;\n",
              "    cursor: pointer;\n",
              "    display: none;\n",
              "    fill: var(--fill-color);\n",
              "    height: 32px;\n",
              "    padding: 0;\n",
              "    width: 32px;\n",
              "  }\n",
              "\n",
              "  .colab-df-quickchart:hover {\n",
              "    background-color: var(--hover-bg-color);\n",
              "    box-shadow: 0 1px 2px rgba(60, 64, 67, 0.3), 0 1px 3px 1px rgba(60, 64, 67, 0.15);\n",
              "    fill: var(--button-hover-fill-color);\n",
              "  }\n",
              "\n",
              "  .colab-df-quickchart-complete:disabled,\n",
              "  .colab-df-quickchart-complete:disabled:hover {\n",
              "    background-color: var(--disabled-bg-color);\n",
              "    fill: var(--disabled-fill-color);\n",
              "    box-shadow: none;\n",
              "  }\n",
              "\n",
              "  .colab-df-spinner {\n",
              "    border: 2px solid var(--fill-color);\n",
              "    border-color: transparent;\n",
              "    border-bottom-color: var(--fill-color);\n",
              "    animation:\n",
              "      spin 1s steps(1) infinite;\n",
              "  }\n",
              "\n",
              "  @keyframes spin {\n",
              "    0% {\n",
              "      border-color: transparent;\n",
              "      border-bottom-color: var(--fill-color);\n",
              "      border-left-color: var(--fill-color);\n",
              "    }\n",
              "    20% {\n",
              "      border-color: transparent;\n",
              "      border-left-color: var(--fill-color);\n",
              "      border-top-color: var(--fill-color);\n",
              "    }\n",
              "    30% {\n",
              "      border-color: transparent;\n",
              "      border-left-color: var(--fill-color);\n",
              "      border-top-color: var(--fill-color);\n",
              "      border-right-color: var(--fill-color);\n",
              "    }\n",
              "    40% {\n",
              "      border-color: transparent;\n",
              "      border-right-color: var(--fill-color);\n",
              "      border-top-color: var(--fill-color);\n",
              "    }\n",
              "    60% {\n",
              "      border-color: transparent;\n",
              "      border-right-color: var(--fill-color);\n",
              "    }\n",
              "    80% {\n",
              "      border-color: transparent;\n",
              "      border-right-color: var(--fill-color);\n",
              "      border-bottom-color: var(--fill-color);\n",
              "    }\n",
              "    90% {\n",
              "      border-color: transparent;\n",
              "      border-bottom-color: var(--fill-color);\n",
              "    }\n",
              "  }\n",
              "</style>\n",
              "\n",
              "  <script>\n",
              "    async function quickchart(key) {\n",
              "      const quickchartButtonEl =\n",
              "        document.querySelector('#' + key + ' button');\n",
              "      quickchartButtonEl.disabled = true;  // To prevent multiple clicks.\n",
              "      quickchartButtonEl.classList.add('colab-df-spinner');\n",
              "      try {\n",
              "        const charts = await google.colab.kernel.invokeFunction(\n",
              "            'suggestCharts', [key], {});\n",
              "      } catch (error) {\n",
              "        console.error('Error during call to suggestCharts:', error);\n",
              "      }\n",
              "      quickchartButtonEl.classList.remove('colab-df-spinner');\n",
              "      quickchartButtonEl.classList.add('colab-df-quickchart-complete');\n",
              "    }\n",
              "    (() => {\n",
              "      let quickchartButtonEl =\n",
              "        document.querySelector('#df-f9e483c4-dc69-4bd9-ae26-44f25f7c9a7f button');\n",
              "      quickchartButtonEl.style.display =\n",
              "        google.colab.kernel.accessAllowed ? 'block' : 'none';\n",
              "    })();\n",
              "  </script>\n",
              "</div>\n",
              "\n",
              "    </div>\n",
              "  </div>\n"
            ]
          },
          "metadata": {},
          "execution_count": 12
        }
      ]
    },
    {
      "cell_type": "code",
      "source": [
        "df.info()"
      ],
      "metadata": {
        "colab": {
          "base_uri": "https://localhost:8080/"
        },
        "id": "7tkr-MrYLRJA",
        "outputId": "6b9a5750-c5c5-4313-8cc8-126f887d3cd9"
      },
      "execution_count": 13,
      "outputs": [
        {
          "output_type": "stream",
          "name": "stdout",
          "text": [
            "<class 'pandas.core.frame.DataFrame'>\n",
            "RangeIndex: 48147 entries, 0 to 48146\n",
            "Data columns (total 9 columns):\n",
            " #   Column       Non-Null Count  Dtype \n",
            "---  ------       --------------  ----- \n",
            " 0   review_id    48147 non-null  object\n",
            " 1   user_id      48147 non-null  object\n",
            " 2   business_id  48147 non-null  object\n",
            " 3   stars        48147 non-null  int64 \n",
            " 4   useful       48147 non-null  int64 \n",
            " 5   funny        48147 non-null  int64 \n",
            " 6   cool         48147 non-null  int64 \n",
            " 7   text         48147 non-null  object\n",
            " 8   date         48147 non-null  object\n",
            "dtypes: int64(4), object(5)\n",
            "memory usage: 3.3+ MB\n"
          ]
        }
      ]
    },
    {
      "cell_type": "code",
      "source": [
        "df.describe()"
      ],
      "metadata": {
        "colab": {
          "base_uri": "https://localhost:8080/",
          "height": 300
        },
        "id": "agLl_VChLRMl",
        "outputId": "33e0bb3d-8da9-44e9-8c55-25cd291930ad"
      },
      "execution_count": 14,
      "outputs": [
        {
          "output_type": "execute_result",
          "data": {
            "text/plain": [
              "              stars        useful         funny          cool\n",
              "count  48147.000000  48147.000000  48147.000000  48147.000000\n",
              "mean       3.736702      0.858683      0.183106      0.439903\n",
              "std        1.557289      1.831488      0.807035      1.451746\n",
              "min        1.000000      0.000000      0.000000      0.000000\n",
              "25%        2.000000      0.000000      0.000000      0.000000\n",
              "50%        5.000000      0.000000      0.000000      0.000000\n",
              "75%        5.000000      1.000000      0.000000      0.000000\n",
              "max        5.000000    105.000000     55.000000    106.000000"
            ],
            "text/html": [
              "\n",
              "  <div id=\"df-6b0130d5-7f4c-425b-8aa1-3575b11afb19\" class=\"colab-df-container\">\n",
              "    <div>\n",
              "<style scoped>\n",
              "    .dataframe tbody tr th:only-of-type {\n",
              "        vertical-align: middle;\n",
              "    }\n",
              "\n",
              "    .dataframe tbody tr th {\n",
              "        vertical-align: top;\n",
              "    }\n",
              "\n",
              "    .dataframe thead th {\n",
              "        text-align: right;\n",
              "    }\n",
              "</style>\n",
              "<table border=\"1\" class=\"dataframe\">\n",
              "  <thead>\n",
              "    <tr style=\"text-align: right;\">\n",
              "      <th></th>\n",
              "      <th>stars</th>\n",
              "      <th>useful</th>\n",
              "      <th>funny</th>\n",
              "      <th>cool</th>\n",
              "    </tr>\n",
              "  </thead>\n",
              "  <tbody>\n",
              "    <tr>\n",
              "      <th>count</th>\n",
              "      <td>48147.000000</td>\n",
              "      <td>48147.000000</td>\n",
              "      <td>48147.000000</td>\n",
              "      <td>48147.000000</td>\n",
              "    </tr>\n",
              "    <tr>\n",
              "      <th>mean</th>\n",
              "      <td>3.736702</td>\n",
              "      <td>0.858683</td>\n",
              "      <td>0.183106</td>\n",
              "      <td>0.439903</td>\n",
              "    </tr>\n",
              "    <tr>\n",
              "      <th>std</th>\n",
              "      <td>1.557289</td>\n",
              "      <td>1.831488</td>\n",
              "      <td>0.807035</td>\n",
              "      <td>1.451746</td>\n",
              "    </tr>\n",
              "    <tr>\n",
              "      <th>min</th>\n",
              "      <td>1.000000</td>\n",
              "      <td>0.000000</td>\n",
              "      <td>0.000000</td>\n",
              "      <td>0.000000</td>\n",
              "    </tr>\n",
              "    <tr>\n",
              "      <th>25%</th>\n",
              "      <td>2.000000</td>\n",
              "      <td>0.000000</td>\n",
              "      <td>0.000000</td>\n",
              "      <td>0.000000</td>\n",
              "    </tr>\n",
              "    <tr>\n",
              "      <th>50%</th>\n",
              "      <td>5.000000</td>\n",
              "      <td>0.000000</td>\n",
              "      <td>0.000000</td>\n",
              "      <td>0.000000</td>\n",
              "    </tr>\n",
              "    <tr>\n",
              "      <th>75%</th>\n",
              "      <td>5.000000</td>\n",
              "      <td>1.000000</td>\n",
              "      <td>0.000000</td>\n",
              "      <td>0.000000</td>\n",
              "    </tr>\n",
              "    <tr>\n",
              "      <th>max</th>\n",
              "      <td>5.000000</td>\n",
              "      <td>105.000000</td>\n",
              "      <td>55.000000</td>\n",
              "      <td>106.000000</td>\n",
              "    </tr>\n",
              "  </tbody>\n",
              "</table>\n",
              "</div>\n",
              "    <div class=\"colab-df-buttons\">\n",
              "\n",
              "  <div class=\"colab-df-container\">\n",
              "    <button class=\"colab-df-convert\" onclick=\"convertToInteractive('df-6b0130d5-7f4c-425b-8aa1-3575b11afb19')\"\n",
              "            title=\"Convert this dataframe to an interactive table.\"\n",
              "            style=\"display:none;\">\n",
              "\n",
              "  <svg xmlns=\"http://www.w3.org/2000/svg\" height=\"24px\" viewBox=\"0 -960 960 960\">\n",
              "    <path d=\"M120-120v-720h720v720H120Zm60-500h600v-160H180v160Zm220 220h160v-160H400v160Zm0 220h160v-160H400v160ZM180-400h160v-160H180v160Zm440 0h160v-160H620v160ZM180-180h160v-160H180v160Zm440 0h160v-160H620v160Z\"/>\n",
              "  </svg>\n",
              "    </button>\n",
              "\n",
              "  <style>\n",
              "    .colab-df-container {\n",
              "      display:flex;\n",
              "      gap: 12px;\n",
              "    }\n",
              "\n",
              "    .colab-df-convert {\n",
              "      background-color: #E8F0FE;\n",
              "      border: none;\n",
              "      border-radius: 50%;\n",
              "      cursor: pointer;\n",
              "      display: none;\n",
              "      fill: #1967D2;\n",
              "      height: 32px;\n",
              "      padding: 0 0 0 0;\n",
              "      width: 32px;\n",
              "    }\n",
              "\n",
              "    .colab-df-convert:hover {\n",
              "      background-color: #E2EBFA;\n",
              "      box-shadow: 0px 1px 2px rgba(60, 64, 67, 0.3), 0px 1px 3px 1px rgba(60, 64, 67, 0.15);\n",
              "      fill: #174EA6;\n",
              "    }\n",
              "\n",
              "    .colab-df-buttons div {\n",
              "      margin-bottom: 4px;\n",
              "    }\n",
              "\n",
              "    [theme=dark] .colab-df-convert {\n",
              "      background-color: #3B4455;\n",
              "      fill: #D2E3FC;\n",
              "    }\n",
              "\n",
              "    [theme=dark] .colab-df-convert:hover {\n",
              "      background-color: #434B5C;\n",
              "      box-shadow: 0px 1px 3px 1px rgba(0, 0, 0, 0.15);\n",
              "      filter: drop-shadow(0px 1px 2px rgba(0, 0, 0, 0.3));\n",
              "      fill: #FFFFFF;\n",
              "    }\n",
              "  </style>\n",
              "\n",
              "    <script>\n",
              "      const buttonEl =\n",
              "        document.querySelector('#df-6b0130d5-7f4c-425b-8aa1-3575b11afb19 button.colab-df-convert');\n",
              "      buttonEl.style.display =\n",
              "        google.colab.kernel.accessAllowed ? 'block' : 'none';\n",
              "\n",
              "      async function convertToInteractive(key) {\n",
              "        const element = document.querySelector('#df-6b0130d5-7f4c-425b-8aa1-3575b11afb19');\n",
              "        const dataTable =\n",
              "          await google.colab.kernel.invokeFunction('convertToInteractive',\n",
              "                                                    [key], {});\n",
              "        if (!dataTable) return;\n",
              "\n",
              "        const docLinkHtml = 'Like what you see? Visit the ' +\n",
              "          '<a target=\"_blank\" href=https://colab.research.google.com/notebooks/data_table.ipynb>data table notebook</a>'\n",
              "          + ' to learn more about interactive tables.';\n",
              "        element.innerHTML = '';\n",
              "        dataTable['output_type'] = 'display_data';\n",
              "        await google.colab.output.renderOutput(dataTable, element);\n",
              "        const docLink = document.createElement('div');\n",
              "        docLink.innerHTML = docLinkHtml;\n",
              "        element.appendChild(docLink);\n",
              "      }\n",
              "    </script>\n",
              "  </div>\n",
              "\n",
              "\n",
              "<div id=\"df-a20ed5a4-4df3-4474-8bd0-af1916939b76\">\n",
              "  <button class=\"colab-df-quickchart\" onclick=\"quickchart('df-a20ed5a4-4df3-4474-8bd0-af1916939b76')\"\n",
              "            title=\"Suggest charts\"\n",
              "            style=\"display:none;\">\n",
              "\n",
              "<svg xmlns=\"http://www.w3.org/2000/svg\" height=\"24px\"viewBox=\"0 0 24 24\"\n",
              "     width=\"24px\">\n",
              "    <g>\n",
              "        <path d=\"M19 3H5c-1.1 0-2 .9-2 2v14c0 1.1.9 2 2 2h14c1.1 0 2-.9 2-2V5c0-1.1-.9-2-2-2zM9 17H7v-7h2v7zm4 0h-2V7h2v10zm4 0h-2v-4h2v4z\"/>\n",
              "    </g>\n",
              "</svg>\n",
              "  </button>\n",
              "\n",
              "<style>\n",
              "  .colab-df-quickchart {\n",
              "      --bg-color: #E8F0FE;\n",
              "      --fill-color: #1967D2;\n",
              "      --hover-bg-color: #E2EBFA;\n",
              "      --hover-fill-color: #174EA6;\n",
              "      --disabled-fill-color: #AAA;\n",
              "      --disabled-bg-color: #DDD;\n",
              "  }\n",
              "\n",
              "  [theme=dark] .colab-df-quickchart {\n",
              "      --bg-color: #3B4455;\n",
              "      --fill-color: #D2E3FC;\n",
              "      --hover-bg-color: #434B5C;\n",
              "      --hover-fill-color: #FFFFFF;\n",
              "      --disabled-bg-color: #3B4455;\n",
              "      --disabled-fill-color: #666;\n",
              "  }\n",
              "\n",
              "  .colab-df-quickchart {\n",
              "    background-color: var(--bg-color);\n",
              "    border: none;\n",
              "    border-radius: 50%;\n",
              "    cursor: pointer;\n",
              "    display: none;\n",
              "    fill: var(--fill-color);\n",
              "    height: 32px;\n",
              "    padding: 0;\n",
              "    width: 32px;\n",
              "  }\n",
              "\n",
              "  .colab-df-quickchart:hover {\n",
              "    background-color: var(--hover-bg-color);\n",
              "    box-shadow: 0 1px 2px rgba(60, 64, 67, 0.3), 0 1px 3px 1px rgba(60, 64, 67, 0.15);\n",
              "    fill: var(--button-hover-fill-color);\n",
              "  }\n",
              "\n",
              "  .colab-df-quickchart-complete:disabled,\n",
              "  .colab-df-quickchart-complete:disabled:hover {\n",
              "    background-color: var(--disabled-bg-color);\n",
              "    fill: var(--disabled-fill-color);\n",
              "    box-shadow: none;\n",
              "  }\n",
              "\n",
              "  .colab-df-spinner {\n",
              "    border: 2px solid var(--fill-color);\n",
              "    border-color: transparent;\n",
              "    border-bottom-color: var(--fill-color);\n",
              "    animation:\n",
              "      spin 1s steps(1) infinite;\n",
              "  }\n",
              "\n",
              "  @keyframes spin {\n",
              "    0% {\n",
              "      border-color: transparent;\n",
              "      border-bottom-color: var(--fill-color);\n",
              "      border-left-color: var(--fill-color);\n",
              "    }\n",
              "    20% {\n",
              "      border-color: transparent;\n",
              "      border-left-color: var(--fill-color);\n",
              "      border-top-color: var(--fill-color);\n",
              "    }\n",
              "    30% {\n",
              "      border-color: transparent;\n",
              "      border-left-color: var(--fill-color);\n",
              "      border-top-color: var(--fill-color);\n",
              "      border-right-color: var(--fill-color);\n",
              "    }\n",
              "    40% {\n",
              "      border-color: transparent;\n",
              "      border-right-color: var(--fill-color);\n",
              "      border-top-color: var(--fill-color);\n",
              "    }\n",
              "    60% {\n",
              "      border-color: transparent;\n",
              "      border-right-color: var(--fill-color);\n",
              "    }\n",
              "    80% {\n",
              "      border-color: transparent;\n",
              "      border-right-color: var(--fill-color);\n",
              "      border-bottom-color: var(--fill-color);\n",
              "    }\n",
              "    90% {\n",
              "      border-color: transparent;\n",
              "      border-bottom-color: var(--fill-color);\n",
              "    }\n",
              "  }\n",
              "</style>\n",
              "\n",
              "  <script>\n",
              "    async function quickchart(key) {\n",
              "      const quickchartButtonEl =\n",
              "        document.querySelector('#' + key + ' button');\n",
              "      quickchartButtonEl.disabled = true;  // To prevent multiple clicks.\n",
              "      quickchartButtonEl.classList.add('colab-df-spinner');\n",
              "      try {\n",
              "        const charts = await google.colab.kernel.invokeFunction(\n",
              "            'suggestCharts', [key], {});\n",
              "      } catch (error) {\n",
              "        console.error('Error during call to suggestCharts:', error);\n",
              "      }\n",
              "      quickchartButtonEl.classList.remove('colab-df-spinner');\n",
              "      quickchartButtonEl.classList.add('colab-df-quickchart-complete');\n",
              "    }\n",
              "    (() => {\n",
              "      let quickchartButtonEl =\n",
              "        document.querySelector('#df-a20ed5a4-4df3-4474-8bd0-af1916939b76 button');\n",
              "      quickchartButtonEl.style.display =\n",
              "        google.colab.kernel.accessAllowed ? 'block' : 'none';\n",
              "    })();\n",
              "  </script>\n",
              "</div>\n",
              "\n",
              "    </div>\n",
              "  </div>\n"
            ]
          },
          "metadata": {},
          "execution_count": 14
        }
      ]
    },
    {
      "cell_type": "markdown",
      "source": [
        "2. Select the 1 star reviews and 5 star reviews from the dataset."
      ],
      "metadata": {
        "id": "QaAYF91eEccD"
      }
    },
    {
      "cell_type": "code",
      "source": [
        "one_star_reviews = df[df['stars'] == 1]['text']\n",
        "five_star_reviews = df[df['stars'] == 5]['text']"
      ],
      "metadata": {
        "id": "FCrmI7tBMetP"
      },
      "execution_count": 15,
      "outputs": []
    },
    {
      "cell_type": "code",
      "source": [
        "print(\"One Star Reviews:\")\n",
        "print(one_star_reviews)\n",
        "print(\"Five Star Reviews:\")\n",
        "print(five_star_reviews)"
      ],
      "metadata": {
        "colab": {
          "base_uri": "https://localhost:8080/"
        },
        "id": "2iE54GzsMknE",
        "outputId": "747c8283-f5c1-470c-88a2-3fea5a2a358a"
      },
      "execution_count": 18,
      "outputs": [
        {
          "output_type": "stream",
          "name": "stdout",
          "text": [
            "One Star Reviews:\n",
            "5        I stay at the Main Hotel at the Casino from Ju...\n",
            "13       I don't know what happened to this place but e...\n",
            "18       Very bad service call for takeout they got our...\n",
            "20       This place is not worth it. Don't go the food ...\n",
            "22       I was so looking forward to Del Sols re-openin...\n",
            "                               ...                        \n",
            "48122    Not good. It was a struggle to order a family ...\n",
            "48129    My Mom and I went for lunch August 30th and th...\n",
            "48135    I haven't been to a Popeyes in years and years...\n",
            "48137    Girlfriend wanted a burger and usually don't e...\n",
            "48144    If I could leave no stars I would. I understan...\n",
            "Name: text, Length: 8466, dtype: object\n",
            "Five Star Reviews:\n",
            "1        Pandemic pit stop to have an ice cream.... onl...\n",
            "2        I was lucky enough to go to the soft opening a...\n",
            "3        I've gone to claim Jumpers all over the US and...\n",
            "6        In town after a long weekend of hiking and cam...\n",
            "7        This is the definition of a great family-run b...\n",
            "                               ...                        \n",
            "48138    We had heard of this place from my daughter wh...\n",
            "48141    ALWAYS love this place! And it's always busy, ...\n",
            "48143    Fresh and delicious food, served fast. What mo...\n",
            "48145    Bosnian food?? \\n\\n--- location. This is a HID...\n",
            "48146    My secret to finding good food often starts by...\n",
            "Name: text, Length: 24467, dtype: object\n"
          ]
        }
      ]
    },
    {
      "cell_type": "markdown",
      "source": [
        "3. Apply necessary text processing techniques on the selected reviews."
      ],
      "metadata": {
        "id": "vuS8Eu5CEjiO"
      }
    },
    {
      "cell_type": "code",
      "source": [
        "# Load the spaCy English NLP model\n",
        "nlp = spacy.load(\"en_core_web_sm\")"
      ],
      "metadata": {
        "id": "XNpKMZneTrLB"
      },
      "execution_count": 22,
      "outputs": []
    },
    {
      "cell_type": "markdown",
      "source": [
        "Tokenization"
      ],
      "metadata": {
        "id": "Lm62Z45bEqJW"
      }
    },
    {
      "cell_type": "code",
      "source": [
        "# Define a function for tokenization\n",
        "def tokenize_text(text):\n",
        "    doc = nlp(text)\n",
        "    tokens = [token.text for token in doc]\n",
        "    return tokens\n",
        "\n",
        "one_star_tokens = one_star_reviews.apply(tokenize_text)\n",
        "five_star_tokens = five_star_reviews.apply(tokenize_text)"
      ],
      "metadata": {
        "id": "cvh9XhySRu0Q"
      },
      "execution_count": 25,
      "outputs": []
    },
    {
      "cell_type": "code",
      "source": [
        "one_star_tokens"
      ],
      "metadata": {
        "colab": {
          "base_uri": "https://localhost:8080/"
        },
        "id": "x-NDgKo9W4Do",
        "outputId": "0be200c1-f66b-400a-aa0e-93fe2a5582fd"
      },
      "execution_count": 26,
      "outputs": [
        {
          "output_type": "execute_result",
          "data": {
            "text/plain": [
              "5        [I, stay, at, the, Main, Hotel, at, the, Casin...\n",
              "13       [I, do, n't, know, what, happened, to, this, p...\n",
              "18       [Very, bad, service, call, for, takeout, they,...\n",
              "20       [This, place, is, not, worth, it, ., Do, n't, ...\n",
              "22       [I, was, so, looking, forward, to, Del, Sols, ...\n",
              "                               ...                        \n",
              "48122    [Not, good, ., It, was, a, struggle, to, order...\n",
              "48129    [My, Mom, and, I, went, for, lunch, August, 30...\n",
              "48135    [I, have, n't, been, to, a, Popeyes, in, years...\n",
              "48137    [Girlfriend, wanted, a, burger, and, usually, ...\n",
              "48144    [If, I, could, leave, no, stars, I, would, ., ...\n",
              "Name: text, Length: 8466, dtype: object"
            ]
          },
          "metadata": {},
          "execution_count": 26
        }
      ]
    },
    {
      "cell_type": "code",
      "source": [
        "five_star_tokens"
      ],
      "metadata": {
        "colab": {
          "base_uri": "https://localhost:8080/"
        },
        "id": "jquUhtOCW7w2",
        "outputId": "ac1f592d-4033-4523-bf2a-27aa90374f33"
      },
      "execution_count": 27,
      "outputs": [
        {
          "output_type": "execute_result",
          "data": {
            "text/plain": [
              "1        [Pandemic, pit, stop, to, have, an, ice, cream...\n",
              "2        [I, was, lucky, enough, to, go, to, the, soft,...\n",
              "3        [I, 've, gone, to, claim, Jumpers, all, over, ...\n",
              "6        [In, town, after, a, long, weekend, of, hiking...\n",
              "7        [This, is, the, definition, of, a, great, fami...\n",
              "                               ...                        \n",
              "48138    [We, had, heard, of, this, place, from, my, da...\n",
              "48141    [ALWAYS, love, this, place, !, And, it, 's, al...\n",
              "48143    [Fresh, and, delicious, food, ,, served, fast,...\n",
              "48145    [Bosnian, food, ?, ?, \\n\\n, ---, location, ., ...\n",
              "48146    [My, secret, to, finding, good, food, often, s...\n",
              "Name: text, Length: 24467, dtype: object"
            ]
          },
          "metadata": {},
          "execution_count": 27
        }
      ]
    },
    {
      "cell_type": "markdown",
      "source": [
        "Lemmatization"
      ],
      "metadata": {
        "id": "Ws8X0KJtEs4m"
      }
    },
    {
      "cell_type": "code",
      "source": [
        "# Define a function for lemmatization\n",
        "def lemmatize_text(text):\n",
        "    doc = nlp(text)\n",
        "    lemmas = [token.lemma_ for token in doc]\n",
        "    return lemmas\n",
        "\n",
        "one_star_lemmas = one_star_reviews.apply(lemmatize_text)\n",
        "five_star_lemmas = five_star_reviews.apply(lemmatize_text)"
      ],
      "metadata": {
        "id": "8As6go53XADY"
      },
      "execution_count": 28,
      "outputs": []
    },
    {
      "cell_type": "code",
      "source": [
        "one_star_lemmas"
      ],
      "metadata": {
        "colab": {
          "base_uri": "https://localhost:8080/"
        },
        "id": "GphtKnYSc4Mw",
        "outputId": "6bb79cc6-3d79-4d3a-931e-0c24e4b6b829"
      },
      "execution_count": 29,
      "outputs": [
        {
          "output_type": "execute_result",
          "data": {
            "text/plain": [
              "5        [I, stay, at, the, Main, Hotel, at, the, Casin...\n",
              "13       [I, do, not, know, what, happen, to, this, pla...\n",
              "18       [very, bad, service, call, for, takeout, they,...\n",
              "20       [this, place, be, not, worth, it, ., do, not, ...\n",
              "22       [I, be, so, look, forward, to, Del, Sols, re, ...\n",
              "                               ...                        \n",
              "48122    [not, good, ., it, be, a, struggle, to, order,...\n",
              "48129    [my, mom, and, I, go, for, lunch, August, 30th...\n",
              "48135    [I, have, not, be, to, a, Popeyes, in, year, a...\n",
              "48137    [Girlfriend, want, a, burger, and, usually, do...\n",
              "48144    [if, I, could, leave, no, star, I, would, ., I...\n",
              "Name: text, Length: 8466, dtype: object"
            ]
          },
          "metadata": {},
          "execution_count": 29
        }
      ]
    },
    {
      "cell_type": "code",
      "source": [
        "five_star_lemmas"
      ],
      "metadata": {
        "colab": {
          "base_uri": "https://localhost:8080/"
        },
        "id": "9gQf35CZc9Kz",
        "outputId": "4cd94e55-f2e9-4d23-b14f-7e6288cae47e"
      },
      "execution_count": 30,
      "outputs": [
        {
          "output_type": "execute_result",
          "data": {
            "text/plain": [
              "1        [pandemic, pit, stop, to, have, an, ice, cream...\n",
              "2        [I, be, lucky, enough, to, go, to, the, soft, ...\n",
              "3        [I, 've, go, to, claim, Jumpers, all, over, th...\n",
              "6        [in, town, after, a, long, weekend, of, hiking...\n",
              "7        [this, be, the, definition, of, a, great, fami...\n",
              "                               ...                        \n",
              "48138    [we, have, hear, of, this, place, from, my, da...\n",
              "48141    [always, love, this, place, !, and, it, be, al...\n",
              "48143    [fresh, and, delicious, food, ,, serve, fast, ...\n",
              "48145    [bosnian, food, ?, ?, \\n\\n, ---, location, ., ...\n",
              "48146    [my, secret, to, find, good, food, often, star...\n",
              "Name: text, Length: 24467, dtype: object"
            ]
          },
          "metadata": {},
          "execution_count": 30
        }
      ]
    },
    {
      "cell_type": "markdown",
      "source": [
        "POS Tagging"
      ],
      "metadata": {
        "id": "QC90Ezk0EvsK"
      }
    },
    {
      "cell_type": "code",
      "source": [
        "def pos_tag_text(text):\n",
        "    doc = nlp(text)\n",
        "    pos_tags = [(token.text, token.pos_) for token in doc]\n",
        "    return pos_tags\n",
        "\n",
        "one_star_pos_tags = one_star_reviews.apply(pos_tag_text)\n",
        "five_star_pos_tags = five_star_reviews.apply(pos_tag_text)"
      ],
      "metadata": {
        "id": "Ygu-jOrLdC-Y"
      },
      "execution_count": 31,
      "outputs": []
    },
    {
      "cell_type": "code",
      "source": [
        "one_star_pos_tags"
      ],
      "metadata": {
        "colab": {
          "base_uri": "https://localhost:8080/"
        },
        "id": "ob8Cxn_Fo3v6",
        "outputId": "6eaaaa6d-65d9-4356-d060-a1857cc17c4c"
      },
      "execution_count": 32,
      "outputs": [
        {
          "output_type": "execute_result",
          "data": {
            "text/plain": [
              "5        [(I, PRON), (stay, VERB), (at, ADP), (the, DET...\n",
              "13       [(I, PRON), (do, AUX), (n't, PART), (know, VER...\n",
              "18       [(Very, ADV), (bad, ADJ), (service, NOUN), (ca...\n",
              "20       [(This, DET), (place, NOUN), (is, AUX), (not, ...\n",
              "22       [(I, PRON), (was, AUX), (so, ADV), (looking, V...\n",
              "                               ...                        \n",
              "48122    [(Not, PART), (good, ADJ), (., PUNCT), (It, PR...\n",
              "48129    [(My, PRON), (Mom, NOUN), (and, CCONJ), (I, PR...\n",
              "48135    [(I, PRON), (have, AUX), (n't, PART), (been, A...\n",
              "48137    [(Girlfriend, PROPN), (wanted, VERB), (a, DET)...\n",
              "48144    [(If, SCONJ), (I, PRON), (could, AUX), (leave,...\n",
              "Name: text, Length: 8466, dtype: object"
            ]
          },
          "metadata": {},
          "execution_count": 32
        }
      ]
    },
    {
      "cell_type": "code",
      "source": [
        "five_star_pos_tags"
      ],
      "metadata": {
        "colab": {
          "base_uri": "https://localhost:8080/"
        },
        "id": "aQn7avR7o8W6",
        "outputId": "5c954112-4c5f-431c-ea82-11a686c88833"
      },
      "execution_count": 33,
      "outputs": [
        {
          "output_type": "execute_result",
          "data": {
            "text/plain": [
              "1        [(Pandemic, ADJ), (pit, NOUN), (stop, NOUN), (...\n",
              "2        [(I, PRON), (was, AUX), (lucky, ADJ), (enough,...\n",
              "3        [(I, PRON), ('ve, AUX), (gone, VERB), (to, PAR...\n",
              "6        [(In, ADP), (town, NOUN), (after, ADP), (a, DE...\n",
              "7        [(This, PRON), (is, AUX), (the, DET), (definit...\n",
              "                               ...                        \n",
              "48138    [(We, PRON), (had, AUX), (heard, VERB), (of, A...\n",
              "48141    [(ALWAYS, ADV), (love, VERB), (this, DET), (pl...\n",
              "48143    [(Fresh, ADJ), (and, CCONJ), (delicious, ADJ),...\n",
              "48145    [(Bosnian, ADJ), (food, NOUN), (?, PUNCT), (?,...\n",
              "48146    [(My, PRON), (secret, NOUN), (to, ADP), (findi...\n",
              "Name: text, Length: 24467, dtype: object"
            ]
          },
          "metadata": {},
          "execution_count": 33
        }
      ]
    },
    {
      "cell_type": "markdown",
      "source": [
        "Named Entity Recognition(NER)"
      ],
      "metadata": {
        "id": "6HbtfA7eEyQY"
      }
    },
    {
      "cell_type": "code",
      "source": [
        "# Define a function for NER (Named Entity Recognition)\n",
        "def ner_text(text):\n",
        "    doc = nlp(text)\n",
        "    ner = [(ent.text, ent.label_) for ent in doc.ents]\n",
        "    return ner\n",
        "one_star_ner = one_star_reviews.apply(ner_text)\n",
        "five_star_ner = five_star_reviews.apply(ner_text)"
      ],
      "metadata": {
        "id": "1W1I3LAdpN3S"
      },
      "execution_count": 34,
      "outputs": []
    },
    {
      "cell_type": "code",
      "source": [
        "one_star_ner"
      ],
      "metadata": {
        "colab": {
          "base_uri": "https://localhost:8080/"
        },
        "id": "wq43YYfLryeg",
        "outputId": "cc8862cb-4de3-4c60-ee54-e7a76150c654"
      },
      "execution_count": 35,
      "outputs": [
        {
          "output_type": "execute_result",
          "data": {
            "text/plain": [
              "5        [(the Main Hotel, FAC), (Casino, ORG), (July 1...\n",
              "13       [(Tucson, GPE), (French, NORP), (every month, ...\n",
              "18                                                      []\n",
              "20                                                      []\n",
              "22       [(Del Sols, GPE), (today, DATE), (over $600, M...\n",
              "                               ...                        \n",
              "48122    [(about 15, CARDINAL), (morning, TIME), (the n...\n",
              "48129               [(August 30th, DATE), (two, CARDINAL)]\n",
              "48135       [(Popeyes, ORG), (years, DATE), (years, DATE)]\n",
              "48137    [(three, CARDINAL), (only two, CARDINAL), (two...\n",
              "48144                                     [(30, CARDINAL)]\n",
              "Name: text, Length: 8466, dtype: object"
            ]
          },
          "metadata": {},
          "execution_count": 35
        }
      ]
    },
    {
      "cell_type": "code",
      "source": [
        "five_star_lemmas"
      ],
      "metadata": {
        "colab": {
          "base_uri": "https://localhost:8080/"
        },
        "id": "e7e-XVY6r6Om",
        "outputId": "4caa44b2-84f5-4aad-9ac1-7486c7fbbb8d"
      },
      "execution_count": 36,
      "outputs": [
        {
          "output_type": "execute_result",
          "data": {
            "text/plain": [
              "1        [pandemic, pit, stop, to, have, an, ice, cream...\n",
              "2        [I, be, lucky, enough, to, go, to, the, soft, ...\n",
              "3        [I, 've, go, to, claim, Jumpers, all, over, th...\n",
              "6        [in, town, after, a, long, weekend, of, hiking...\n",
              "7        [this, be, the, definition, of, a, great, fami...\n",
              "                               ...                        \n",
              "48138    [we, have, hear, of, this, place, from, my, da...\n",
              "48141    [always, love, this, place, !, and, it, be, al...\n",
              "48143    [fresh, and, delicious, food, ,, serve, fast, ...\n",
              "48145    [bosnian, food, ?, ?, \\n\\n, ---, location, ., ...\n",
              "48146    [my, secret, to, find, good, food, often, star...\n",
              "Name: text, Length: 24467, dtype: object"
            ]
          },
          "metadata": {},
          "execution_count": 36
        }
      ]
    },
    {
      "cell_type": "markdown",
      "source": [
        "Parsing\n",
        "\n",
        "\n",
        "\n",
        "\n",
        "\n"
      ],
      "metadata": {
        "id": "2LkFv__sE4_W"
      }
    },
    {
      "cell_type": "code",
      "source": [
        "# Define a function for parsing (Dependency Parsing)\n",
        "def parse_text(text):\n",
        "    doc = nlp(text)\n",
        "    parsed = [(token.text, token.dep_, token.head.text) for token in doc]\n",
        "    return parsed\n",
        "\n",
        "one_star_parsed = one_star_reviews.apply(parse_text)\n",
        "five_star_parsed = five_star_reviews.apply(parse_text)"
      ],
      "metadata": {
        "id": "N3scYqPTse83"
      },
      "execution_count": 37,
      "outputs": []
    },
    {
      "cell_type": "code",
      "source": [
        "one_star_parsed"
      ],
      "metadata": {
        "colab": {
          "base_uri": "https://localhost:8080/"
        },
        "id": "cwNqSUFgvTr5",
        "outputId": "b4611961-ecd2-47a8-a1c7-9ead30bdf20e"
      },
      "execution_count": 38,
      "outputs": [
        {
          "output_type": "execute_result",
          "data": {
            "text/plain": [
              "5        [(I, nsubj, stay), (stay, ccomp, was), (at, pr...\n",
              "13       [(I, nsubj, know), (do, aux, know), (n't, neg,...\n",
              "18       [(Very, advmod, bad), (bad, amod, call), (serv...\n",
              "20       [(This, det, place), (place, nsubj, is), (is, ...\n",
              "22       [(I, nsubj, looking), (was, aux, looking), (so...\n",
              "                               ...                        \n",
              "48122    [(Not, neg, good), (good, ROOT, good), (., pun...\n",
              "48129    [(My, poss, Mom), (Mom, nsubj, went), (and, cc...\n",
              "48135    [(I, nsubj, been), (have, aux, been), (n't, ne...\n",
              "48137    [(Girlfriend, nsubj, wanted), (wanted, ROOT, w...\n",
              "48144    [(If, mark, leave), (I, nsubj, leave), (could,...\n",
              "Name: text, Length: 8466, dtype: object"
            ]
          },
          "metadata": {},
          "execution_count": 38
        }
      ]
    },
    {
      "cell_type": "code",
      "source": [
        "five_star_parsed"
      ],
      "metadata": {
        "colab": {
          "base_uri": "https://localhost:8080/"
        },
        "id": "PXvD9rdZvXiL",
        "outputId": "faaf484d-1db6-4b44-ca1e-5c1172aa8060"
      },
      "execution_count": 39,
      "outputs": [
        {
          "output_type": "execute_result",
          "data": {
            "text/plain": [
              "1        [(Pandemic, amod, pit), (pit, compound, stop),...\n",
              "2        [(I, nsubj, was), (was, ROOT, was), (lucky, ac...\n",
              "3        [(I, nsubj, gone), ('ve, aux, gone), (gone, RO...\n",
              "6        [(In, ROOT, In), (town, pobj, In), (after, pre...\n",
              "7        [(This, nsubj, is), (is, ROOT, is), (the, det,...\n",
              "                               ...                        \n",
              "48138    [(We, nsubj, heard), (had, aux, heard), (heard...\n",
              "48141    [(ALWAYS, advmod, love), (love, ROOT, love), (...\n",
              "48143    [(Fresh, amod, food), (and, cc, Fresh), (delic...\n",
              "48145    [(Bosnian, amod, food), (food, ROOT, food), (?...\n",
              "48146    [(My, poss, secret), (secret, nsubj, starts), ...\n",
              "Name: text, Length: 24467, dtype: object"
            ]
          },
          "metadata": {},
          "execution_count": 39
        }
      ]
    },
    {
      "cell_type": "markdown",
      "source": [
        "4. Find the top 20 frequently used nouns in 1 star reviews and 5 star\n",
        "reviews, respectively."
      ],
      "metadata": {
        "id": "HV-6gdp8FCww"
      }
    },
    {
      "cell_type": "code",
      "source": [
        "def top_20_from_pos_tags(pos_tags, pos):\n",
        "    words = [word for word, tag in pos_tags if tag == pos]\n",
        "    return Counter(words).most_common(20)\n",
        "\n",
        "# Ensure that one_star_pos_tags and five_star_pos_tags are flattened lists of tuples\n",
        "# Flatten the list of lists of tuples into a single list of tuples\n",
        "one_star_pos_tags_flat = [item for sublist in one_star_pos_tags for item in sublist]\n",
        "five_star_pos_tags_flat = [item for sublist in five_star_pos_tags for item in sublist]\n",
        "\n",
        "# Top 20 nouns in 1-star reviews\n",
        "top_20_nouns_one_star = top_20_from_pos_tags(one_star_pos_tags_flat, 'NOUN')\n",
        "\n",
        "# Top 20 nouns in 5-star reviews\n",
        "top_20_nouns_five_star = top_20_from_pos_tags(five_star_pos_tags_flat, 'NOUN')"
      ],
      "metadata": {
        "id": "8PEkj8Do9aEZ"
      },
      "execution_count": 58,
      "outputs": []
    },
    {
      "cell_type": "code",
      "source": [
        "top_20_nouns_one_star"
      ],
      "metadata": {
        "colab": {
          "base_uri": "https://localhost:8080/"
        },
        "id": "1O3z6CO19uqg",
        "outputId": "7acd00c9-fd9d-47b7-8d73-b4e685ef5071"
      },
      "execution_count": 59,
      "outputs": [
        {
          "output_type": "execute_result",
          "data": {
            "text/plain": [
              "[('food', 6132),\n",
              " ('order', 3712),\n",
              " ('time', 3376),\n",
              " ('place', 2930),\n",
              " ('service', 2837),\n",
              " ('minutes', 2381),\n",
              " ('restaurant', 1998),\n",
              " ('manager', 1479),\n",
              " ('people', 1384),\n",
              " ('customer', 1263),\n",
              " ('chicken', 1208),\n",
              " ('table', 1206),\n",
              " ('location', 1103),\n",
              " ('pizza', 1030),\n",
              " ('experience', 1018),\n",
              " ('staff', 976),\n",
              " ('times', 932),\n",
              " ('way', 909),\n",
              " ('server', 886),\n",
              " ('meal', 859)]"
            ]
          },
          "metadata": {},
          "execution_count": 59
        }
      ]
    },
    {
      "cell_type": "code",
      "source": [
        "top_20_nouns_five_star"
      ],
      "metadata": {
        "colab": {
          "base_uri": "https://localhost:8080/"
        },
        "id": "WxfXAcGD-KOj",
        "outputId": "3bf7e5bd-5295-47bd-aae1-d44ef717537a"
      },
      "execution_count": 60,
      "outputs": [
        {
          "output_type": "execute_result",
          "data": {
            "text/plain": [
              "[('food', 14661),\n",
              " ('place', 9697),\n",
              " ('service', 6583),\n",
              " ('time', 5555),\n",
              " ('restaurant', 3932),\n",
              " ('staff', 3689),\n",
              " ('menu', 3092),\n",
              " ('chicken', 2759),\n",
              " ('pizza', 2455),\n",
              " ('experience', 2101),\n",
              " ('sauce', 1914),\n",
              " ('order', 1904),\n",
              " ('meal', 1892),\n",
              " ('breakfast', 1811),\n",
              " ('lunch', 1796),\n",
              " ('cheese', 1721),\n",
              " ('spot', 1681),\n",
              " ('family', 1653),\n",
              " ('flavor', 1652),\n",
              " ('side', 1652)]"
            ]
          },
          "metadata": {},
          "execution_count": 60
        }
      ]
    },
    {
      "cell_type": "markdown",
      "source": [
        "5. Find the top 20 frequently used adjectives in 1 star reviews and 5\n",
        "star, respectively."
      ],
      "metadata": {
        "id": "I7xOay8OFMAp"
      }
    },
    {
      "cell_type": "code",
      "source": [
        "# Top 20 adjectives in 1-star reviews\n",
        "top_20_adjectives_one_star = top_20_from_pos_tags(one_star_pos_tags_flat, 'ADJ')\n",
        "\n",
        "# Top 20 adjectives in 5-star reviews\n",
        "top_20_adjectives_five_star = top_20_from_pos_tags(five_star_pos_tags_flat, 'ADJ')"
      ],
      "metadata": {
        "id": "IsJ4CNYm-QD7"
      },
      "execution_count": 62,
      "outputs": []
    },
    {
      "cell_type": "code",
      "source": [
        "top_20_adjectives_one_star"
      ],
      "metadata": {
        "colab": {
          "base_uri": "https://localhost:8080/"
        },
        "id": "mfUCCzVL-WZZ",
        "outputId": "f4c9f2c1-c9fb-4c70-b499-1f2342b1cdc5"
      },
      "execution_count": 63,
      "outputs": [
        {
          "output_type": "execute_result",
          "data": {
            "text/plain": [
              "[('good', 1768),\n",
              " ('other', 1339),\n",
              " ('bad', 1124),\n",
              " ('rude', 907),\n",
              " ('cold', 854),\n",
              " ('last', 814),\n",
              " ('more', 803),\n",
              " ('first', 747),\n",
              " ('worst', 697),\n",
              " ('great', 673),\n",
              " ('better', 665),\n",
              " ('wrong', 657),\n",
              " ('sure', 621),\n",
              " ('same', 607),\n",
              " ('disappointed', 598),\n",
              " ('terrible', 558),\n",
              " ('new', 550),\n",
              " ('many', 529),\n",
              " ('horrible', 521),\n",
              " ('few', 501)]"
            ]
          },
          "metadata": {},
          "execution_count": 63
        }
      ]
    },
    {
      "cell_type": "code",
      "source": [
        "top_20_adjectives_five_star"
      ],
      "metadata": {
        "colab": {
          "base_uri": "https://localhost:8080/"
        },
        "id": "2azF9UAo-gS1",
        "outputId": "ff4ccc6b-d4d1-4fd5-b9f1-b66969637851"
      },
      "execution_count": 64,
      "outputs": [
        {
          "output_type": "execute_result",
          "data": {
            "text/plain": [
              "[('great', 9350),\n",
              " ('good', 8881),\n",
              " ('delicious', 6262),\n",
              " ('amazing', 4667),\n",
              " ('best', 4249),\n",
              " ('friendly', 4040),\n",
              " ('fresh', 3161),\n",
              " ('nice', 2956),\n",
              " ('Great', 2863),\n",
              " ('excellent', 1953),\n",
              " ('more', 1950),\n",
              " ('little', 1946),\n",
              " ('other', 1931),\n",
              " ('perfect', 1926),\n",
              " ('favorite', 1848),\n",
              " ('first', 1737),\n",
              " ('hot', 1675),\n",
              " ('sure', 1528),\n",
              " ('new', 1519),\n",
              " ('wonderful', 1448)]"
            ]
          },
          "metadata": {},
          "execution_count": 64
        }
      ]
    },
    {
      "cell_type": "markdown",
      "source": [
        "6. Find the top 20 frequently used verbs in 1 star reviews and 5 star\n",
        "reviews, respectively."
      ],
      "metadata": {
        "id": "VmgxSmhaFTlZ"
      }
    },
    {
      "cell_type": "code",
      "source": [
        "# Top 20 verbs in 1-star reviews\n",
        "top_20_verbs_one_star = top_20_from_pos_tags(one_star_pos_tags_flat, 'VERB')\n",
        "\n",
        "# Top 20 verbs in 5-star reviews\n",
        "top_20_verbs_five_star = top_20_from_pos_tags(five_star_pos_tags_flat, 'VERB')"
      ],
      "metadata": {
        "id": "OhkP1VWl-joA"
      },
      "execution_count": 65,
      "outputs": []
    },
    {
      "cell_type": "code",
      "source": [
        "top_20_verbs_one_star"
      ],
      "metadata": {
        "colab": {
          "base_uri": "https://localhost:8080/"
        },
        "id": "fQzIMqeL-oy_",
        "outputId": "086de744-ad42-4775-938b-df2530af2f7a"
      },
      "execution_count": 66,
      "outputs": [
        {
          "output_type": "execute_result",
          "data": {
            "text/plain": [
              "[('had', 3910),\n",
              " ('get', 2921),\n",
              " ('have', 2575),\n",
              " ('ordered', 2471),\n",
              " ('go', 2447),\n",
              " ('said', 2361),\n",
              " ('got', 2067),\n",
              " ('asked', 1933),\n",
              " ('told', 1871),\n",
              " ('came', 1564),\n",
              " ('went', 1452),\n",
              " ('going', 1301),\n",
              " ('know', 1254),\n",
              " ('give', 1159),\n",
              " ('come', 1144),\n",
              " ('eat', 1106),\n",
              " ('take', 1073),\n",
              " ('make', 1032),\n",
              " ('took', 1031),\n",
              " ('order', 956)]"
            ]
          },
          "metadata": {},
          "execution_count": 66
        }
      ]
    },
    {
      "cell_type": "code",
      "source": [
        "top_20_verbs_five_star"
      ],
      "metadata": {
        "colab": {
          "base_uri": "https://localhost:8080/"
        },
        "id": "0uSDoRyF-w0p",
        "outputId": "95827897-4401-419e-8afd-c3b681026b52"
      },
      "execution_count": 67,
      "outputs": [
        {
          "output_type": "execute_result",
          "data": {
            "text/plain": [
              "[('had', 10510),\n",
              " ('have', 5736),\n",
              " ('go', 4333),\n",
              " ('get', 3689),\n",
              " ('ordered', 3544),\n",
              " ('got', 3385),\n",
              " ('try', 3135),\n",
              " ('recommend', 3102),\n",
              " ('love', 3011),\n",
              " ('made', 2625),\n",
              " ('come', 2248),\n",
              " ('eat', 1997),\n",
              " ('came', 1939),\n",
              " ('make', 1787),\n",
              " ('tried', 1694),\n",
              " ('has', 1633),\n",
              " ('take', 1627),\n",
              " ('order', 1596),\n",
              " ('went', 1496),\n",
              " ('going', 1421)]"
            ]
          },
          "metadata": {},
          "execution_count": 67
        }
      ]
    },
    {
      "cell_type": "markdown",
      "source": [
        "7. Find the top 20 frequently used named entities from the selected\n",
        "reviews"
      ],
      "metadata": {
        "id": "k2Ok5iaYFhtG"
      }
    },
    {
      "cell_type": "code",
      "source": [
        "def top_20_named_entities(named_entities):\n",
        "    entities = [entity for entity, label in named_entities]\n",
        "    return Counter(entities).most_common(20)\n",
        "\n",
        "# Flatten the list of lists of named entity tuples\n",
        "one_star_ner_flat = [item for sublist in one_star_ner for item in sublist]\n",
        "five_star_ner_flat = [item for sublist in five_star_ner for item in sublist]\n",
        "\n",
        "# Combining named entities from both one-star and five-star reviews\n",
        "combined_named_entities = one_star_ner_flat + five_star_ner_flat\n",
        "\n",
        "# Top 20 named entities from the combined list\n",
        "top_20_named_entities = top_20_named_entities(combined_named_entities)\n",
        "\n",
        "top_20_named_entities\n"
      ],
      "metadata": {
        "colab": {
          "base_uri": "https://localhost:8080/"
        },
        "id": "8sU41bIO-2i0",
        "outputId": "826f1ba5-c13b-4537-da48-4ffaaa195c3a"
      },
      "execution_count": 69,
      "outputs": [
        {
          "output_type": "execute_result",
          "data": {
            "text/plain": [
              "[('Tucson', 5322),\n",
              " ('first', 2753),\n",
              " ('one', 2203),\n",
              " ('two', 2074),\n",
              " ('2', 1507),\n",
              " ('Mexican', 1411),\n",
              " ('today', 1110),\n",
              " ('3', 1092),\n",
              " ('5', 1058),\n",
              " ('First', 845),\n",
              " ('One', 845),\n",
              " ('4', 708),\n",
              " ('1', 621),\n",
              " ('three', 621),\n",
              " ('half', 608),\n",
              " ('second', 603),\n",
              " ('Italian', 587),\n",
              " ('tonight', 544),\n",
              " ('Chinese', 520),\n",
              " ('10', 508)]"
            ]
          },
          "metadata": {},
          "execution_count": 69
        }
      ]
    },
    {
      "cell_type": "markdown",
      "source": [
        "8. Write one paragraph about your observation on the language of 1\n",
        "star and 5 star reviews. What is the key to a good restaurant experience?"
      ],
      "metadata": {
        "id": "i4l9YKkLFkz2"
      }
    },
    {
      "cell_type": "markdown",
      "source": [
        "One star reviews have a more negative language like 'rude', 'terrible' and 'disappointed'. On the other hand, five star reviews hold more positive words like 'wonderful','amazing' and 'delicious'. Based on the recurring words in reviews, the key to a good restaraunt is delicious and hot food being served, friendly staff, fresh ingredients and having pizza on the menu."
      ],
      "metadata": {
        "id": "GxyWoxcwAEf_"
      }
    },
    {
      "cell_type": "markdown",
      "source": [
        "9. Acknowledge if you have used any GenAI tools in this assignment and\n",
        "anyone you have worked together with on this assignment.\n",
        "\n",
        "I have used GenAI tools but I have not worked with anyone for this assignment."
      ],
      "metadata": {
        "id": "TpdE0AN1FrCo"
      }
    }
  ]
}