{
  "cells": [
    {
      "cell_type": "markdown",
      "source": [
        "# **Lab Assignment 4**"
      ],
      "metadata": {
        "id": "sgReYw-olAfx"
      }
    },
    {
      "cell_type": "markdown",
      "source": [
        "## Personal Information\n",
        "\n",
        "Name: Aditi Krishna Priya Manikantan  \n",
        "\n",
        "ASU ID: 1230651112  \n",
        "\n",
        "Date: 1/02/2024"
      ],
      "metadata": {
        "id": "eP47Y8TGok6G"
      }
    },
    {
      "cell_type": "markdown",
      "source": [
        "### You must use this provided framework as-is and follow all the directions stated in there:\n",
        "*\tDo NOT edit or otherwise change any part of this framework except the cells you have been instructed to code.\n",
        "*\tYou must NOT import any additional python packages to complete this assignment\n",
        "\n",
        "### Note that, points will be deducted for notebooks that:\n",
        "*\tdo not follow the saving guidelines/naming convention\n",
        "*\tdo not compile/run\n",
        "*\tdo not follow all the instructions in the framework\n",
        "*\tare incomplete\n",
        "*\thave logical errors\n",
        "*\tdon’t result in the expected output\n",
        "\n"
      ],
      "metadata": {
        "id": "4g29lQSovToT"
      }
    },
    {
      "cell_type": "markdown",
      "source": [
        "## Exercise 1 (Gradient Descent)"
      ],
      "metadata": {
        "id": "swN48cdllBhr"
      }
    },
    {
      "cell_type": "markdown",
      "metadata": {
        "id": "RUeyjzDqbAiK"
      },
      "source": [
        "* In this assignment, you will first use the gradient descent algorithm to find the optimal value of w1 which minimizes the given cost function (Steps 1.1 through 1.5). You will earn 5% points for each step and 25% in total.\n",
        "\n",
        "* You will run the algorithm for 4 different scenarios, each with a different value of alpha. For each scenario, you will log the responses in the last cell of this notebook (Step 1.6). You will earn 5% points for each scenario and 20%  in total."
      ]
    },
    {
      "cell_type": "code",
      "execution_count": null,
      "metadata": {
        "id": "lzBsIAYXbAiM"
      },
      "outputs": [],
      "source": [
        "# DO NOT edit this cell!\n",
        "# You must use this cost function and its derivative as-is\n",
        "\n",
        "# cost at particular value of w1\n",
        "def calc_J(w1):\n",
        "    return (5.5*w1*w1 - 1463*w1 + 100812.5)\n",
        "\n",
        "# slope at particular value of w1\n",
        "def calc_dJ_dw1(w1):\n",
        "    return (11*w1 - 1463)"
      ]
    },
    {
      "cell_type": "code",
      "execution_count": null,
      "metadata": {
        "id": "tMUYheJcbAiO",
        "colab": {
          "base_uri": "https://localhost:8080/"
        },
        "outputId": "45a07c3c-65f2-4c2a-e01d-e214570dddf1"
      },
      "outputs": [
        {
          "output_type": "stream",
          "name": "stdout",
          "text": [
            "Initial w1: 60.00, Initial J: 32832.50\n",
            "Iteration 1: w1: 212.57, J: 38345.62\n",
            "Iteration 2: w1: 46.27, J: 44895.75\n",
            "Iteration 3: w1: 227.54, J: 52677.97\n",
            "Iteration 4: w1: 29.95, J: 61924.01\n",
            "Iteration 5: w1: 245.32, J: 72909.25\n",
            "Iteration 6: w1: 10.57, J: 85960.80\n",
            "Iteration 7: w1: 266.45, J: 101467.35\n",
            "Iteration 8: w1: -12.46, J: 119890.68\n",
            "Iteration 9: w1: 291.55, J: 141779.44\n",
            "Iteration 10: w1: -39.82, J: 167785.48\n",
            "Iteration 11: w1: 321.37, J: 198683.25\n",
            "Iteration 12: w1: -72.32, J: 235392.89\n",
            "Iteration 13: w1: 356.80, J: 279007.62\n",
            "Iteration 14: w1: -110.95, J: 330826.28\n",
            "Iteration 15: w1: 398.90, J: 392392.02\n",
            "Iteration 16: w1: -156.83, J: 465538.29\n",
            "Iteration 17: w1: 448.92, J: 552443.36\n",
            "Iteration 18: w1: -211.35, J: 655695.28\n",
            "Iteration 19: w1: 508.34, J: 778368.89\n",
            "Iteration 20: w1: -276.12, J: 924117.40\n",
            "Iteration 21: w1: 578.94, J: 1097281.20\n",
            "Iteration 22: w1: -353.08, J: 1303017.12\n",
            "Iteration 23: w1: 662.82, J: 1547451.97\n",
            "Iteration 24: w1: -444.51, J: 1837865.00\n",
            "Iteration 25: w1: 762.48, J: 2182904.73\n"
          ]
        }
      ],
      "source": [
        "# First, complete coding Steps 1.1 through 1.5 in this cell.\n",
        "# Then, run this cell for each of the four scenarios below,\n",
        "# and log your responses for each scenario run in the next cell (Step 1.6)\n",
        "# alpha=0.08; niterations = 25; w1 = 60 # Scenario 1\n",
        "# alpha=0.05; niterations = 25; w1 = 60 # Scenario 2\n",
        "# alpha=0.15; niterations = 25; w1 = 60 # Scenario 3\n",
        "alpha=0.19; niterations = 25; w1 = 60 # Scenario 4\n",
        "\n",
        "# Step 1.1: calculate current value of J at current value of w1\n",
        "# your code here\n",
        "current_J = calc_J(w1)\n",
        "\n",
        "\n",
        "# Step 1.2: print w1 (rounded to 2 decimal places) and J (rounded to 2 decimal places)\n",
        "# your code here\n",
        "print(f\"Initial w1: {w1:.2f}, Initial J: {current_J:.2f}\")\n",
        "\n",
        "# run gradient descent for niterations\n",
        "for i in range(niterations):\n",
        "\n",
        "    # Step 1.3: calculate new value of w1\n",
        "    # your code here\n",
        "    w1 = w1 - alpha * calc_dJ_dw1(w1)\n",
        "\n",
        "    # Step 1.4: calculate new value of J at new w1\n",
        "    # your code here\n",
        "    new_J = calc_J(w1)\n",
        "\n",
        "    # Step 1.5: print w1 (rounded to 2 decimal places) and J (rounded to 2 decimal places)\n",
        "    # your code here\n",
        "    print(f\"Iteration {i+1}: w1: {w1:.2f}, J: {new_J:.2f}\")"
      ]
    },
    {
      "cell_type": "code",
      "execution_count": null,
      "metadata": {
        "id": "s8XQpscNbAiO"
      },
      "outputs": [],
      "source": [
        "# Step 1.6: for each Scenario, answer the following questions based on the output (20%)\n",
        "# type your answers below for each question\n",
        "#\n",
        "### Scenario 1 (alpha=0.08; niterations = 25; w1 = 60):\n",
        "''' Initial w1: 60.00, Initial J: 32832.50\n",
        "Iteration 1: w1: 124.24, J: 3945.06\n",
        "Iteration 2: w1: 131.95, J: 3529.08\n",
        "Iteration 3: w1: 132.87, J: 3523.09\n",
        "Iteration 4: w1: 132.98, J: 3523.00\n",
        "Iteration 5: w1: 133.00, J: 3523.00\n",
        "Iteration 6: w1: 133.00, J: 3523.00\n",
        "Iteration 7: w1: 133.00, J: 3523.00\n",
        "Iteration 8: w1: 133.00, J: 3523.00\n",
        "Iteration 9: w1: 133.00, J: 3523.00\n",
        "Iteration 10: w1: 133.00, J: 3523.00\n",
        "Iteration 11: w1: 133.00, J: 3523.00\n",
        "Iteration 12: w1: 133.00, J: 3523.00\n",
        "Iteration 13: w1: 133.00, J: 3523.00\n",
        "Iteration 14: w1: 133.00, J: 3523.00\n",
        "Iteration 15: w1: 133.00, J: 3523.00\n",
        "Iteration 16: w1: 133.00, J: 3523.00\n",
        "Iteration 17: w1: 133.00, J: 3523.00\n",
        "Iteration 18: w1: 133.00, J: 3523.00\n",
        "Iteration 19: w1: 133.00, J: 3523.00\n",
        "Iteration 20: w1: 133.00, J: 3523.00\n",
        "Iteration 21: w1: 133.00, J: 3523.00\n",
        "Iteration 22: w1: 133.00, J: 3523.00\n",
        "Iteration 23: w1: 133.00, J: 3523.00\n",
        "Iteration 24: w1: 133.00, J: 3523.00\n",
        "Iteration 25: w1: 133.00, J: 3523.00 '''\n",
        "# did the cost steadily decrease as training progressed?\n",
        "# Yes, the cost decreased steadily from the initial value and quickly converged to a minimum in the 5th iteration itself.\n",
        "\n",
        "# did the gradient descent algorithm converge?\n",
        "# Yes, the algorithm converged.\n",
        "\n",
        "# what is the minimum cost?\n",
        "# The minimum cost is 3523.00.\n",
        "\n",
        "# what is the optimal value of w1?\n",
        "# The optimal value of w1 is approximately 133.00.\n",
        "\n",
        "# in how many iterations did gradient descent converge (at which row # in the output)?\n",
        "# The model converged by 5th iteration.\n",
        "\n",
        "### Scenario 2 (alpha=0.05; niterations = 25; w1 = 60):\n",
        "''' Initial w1: 60.00, Initial J: 32832.50\n",
        "Iteration 1: w1: 100.15, J: 9458.17\n",
        "Iteration 2: w1: 118.22, J: 4724.87\n",
        "Iteration 3: w1: 126.35, J: 3766.38\n",
        "Iteration 4: w1: 130.01, J: 3572.28\n",
        "Iteration 5: w1: 131.65, J: 3532.98\n",
        "Iteration 6: w1: 132.39, J: 3525.02\n",
        "Iteration 7: w1: 132.73, J: 3523.41\n",
        "Iteration 8: w1: 132.88, J: 3523.08\n",
        "Iteration 9: w1: 132.94, J: 3523.02\n",
        "Iteration 10: w1: 132.98, J: 3523.00\n",
        "Iteration 11: w1: 132.99, J: 3523.00\n",
        "Iteration 12: w1: 132.99, J: 3523.00\n",
        "Iteration 13: w1: 133.00, J: 3523.00\n",
        "Iteration 14: w1: 133.00, J: 3523.00\n",
        "Iteration 15: w1: 133.00, J: 3523.00\n",
        "Iteration 16: w1: 133.00, J: 3523.00\n",
        "Iteration 17: w1: 133.00, J: 3523.00\n",
        "Iteration 18: w1: 133.00, J: 3523.00\n",
        "Iteration 19: w1: 133.00, J: 3523.00\n",
        "Iteration 20: w1: 133.00, J: 3523.00\n",
        "Iteration 21: w1: 133.00, J: 3523.00\n",
        "Iteration 22: w1: 133.00, J: 3523.00\n",
        "Iteration 23: w1: 133.00, J: 3523.00\n",
        "Iteration 24: w1: 133.00, J: 3523.00\n",
        "Iteration 25: w1: 133.00, J: 3523.00'''\n",
        "# did the cost steadily decrease as training progressed?\n",
        "# Yes, but only until the 10th iteration.\n",
        "\n",
        "# did the gradient descent algorithm converge?\n",
        "# Yes, the algorithm converged\n",
        "\n",
        "# what is the minimum cost?\n",
        "# 3523.00\n",
        "\n",
        "# what is the optimal value of w1?\n",
        "#133.00\n",
        "\n",
        "# in how many iterations did gradient descent converge (at which row # in the output)?\n",
        "#It converged after 10 iterations\n",
        "\n",
        "### Scenario 3 (alpha=0.15; niterations = 25; w1 = 60):\n",
        "'''Initial w1: 60.00, Initial J: 32832.50\n",
        "Iteration 1: w1: 180.45, J: 15906.26\n",
        "Iteration 2: w1: 102.16, J: 8754.93\n",
        "Iteration 3: w1: 153.05, J: 5733.49\n",
        "Iteration 4: w1: 119.97, J: 4456.93\n",
        "Iteration 5: w1: 141.47, J: 3917.59\n",
        "Iteration 6: w1: 127.49, J: 3689.71\n",
        "Iteration 7: w1: 136.58, J: 3593.44\n",
        "Iteration 8: w1: 130.67, J: 3552.76\n",
        "Iteration 9: w1: 134.51, J: 3535.57\n",
        "Iteration 10: w1: 132.02, J: 3528.31\n",
        "Iteration 11: w1: 133.64, J: 3525.24\n",
        "Iteration 12: w1: 132.58, J: 3523.95\n",
        "Iteration 13: w1: 133.27, J: 3523.40\n",
        "Iteration 14: w1: 132.82, J: 3523.17\n",
        "Iteration 15: w1: 133.11, J: 3523.07\n",
        "Iteration 16: w1: 132.93, J: 3523.03\n",
        "Iteration 17: w1: 133.05, J: 3523.01\n",
        "Iteration 18: w1: 132.97, J: 3523.01\n",
        "Iteration 19: w1: 133.02, J: 3523.00\n",
        "Iteration 20: w1: 132.99, J: 3523.00\n",
        "Iteration 21: w1: 133.01, J: 3523.00\n",
        "Iteration 22: w1: 132.99, J: 3523.00\n",
        "Iteration 23: w1: 133.00, J: 3523.00\n",
        "Iteration 24: w1: 133.00, J: 3523.00\n",
        "Iteration 25: w1: 133.00, J: 3523.00'''\n",
        "\n",
        "# did the cost steadily decrease as training progressed?\n",
        "#Yes, the cost decreased.\n",
        "\n",
        "# did the gradient descent algorithm converge?\n",
        "#Yes, the algorithm converged\n",
        "\n",
        "# what is the minimum cost?\n",
        "#3523.00\n",
        "\n",
        "# what is the optimal value of w1?\n",
        "#133.00\n",
        "\n",
        "# in how many iterations did gradient descent converge (at which row # in the output)?\n",
        "# 23rd iteration\n",
        "\n",
        "### Scenario 4 (alpha=0.19; niterations = 25; w1 = 60):\n",
        "'''Initial w1: 60.00, Initial J: 32832.50\n",
        "Iteration 1: w1: 212.57, J: 38345.62\n",
        "Iteration 2: w1: 46.27, J: 44895.75\n",
        "Iteration 3: w1: 227.54, J: 52677.97\n",
        "Iteration 4: w1: 29.95, J: 61924.01\n",
        "Iteration 5: w1: 245.32, J: 72909.25\n",
        "Iteration 6: w1: 10.57, J: 85960.80\n",
        "Iteration 7: w1: 266.45, J: 101467.35\n",
        "Iteration 8: w1: -12.46, J: 119890.68\n",
        "Iteration 9: w1: 291.55, J: 141779.44\n",
        "Iteration 10: w1: -39.82, J: 167785.48\n",
        "Iteration 11: w1: 321.37, J: 198683.25\n",
        "Iteration 12: w1: -72.32, J: 235392.89\n",
        "Iteration 13: w1: 356.80, J: 279007.62\n",
        "Iteration 14: w1: -110.95, J: 330826.28\n",
        "Iteration 15: w1: 398.90, J: 392392.02\n",
        "Iteration 16: w1: -156.83, J: 465538.29\n",
        "Iteration 17: w1: 448.92, J: 552443.36\n",
        "Iteration 18: w1: -211.35, J: 655695.28\n",
        "Iteration 19: w1: 508.34, J: 778368.89\n",
        "Iteration 20: w1: -276.12, J: 924117.40\n",
        "Iteration 21: w1: 578.94, J: 1097281.20\n",
        "Iteration 22: w1: -353.08, J: 1303017.12\n",
        "Iteration 23: w1: 662.82, J: 1547451.97\n",
        "Iteration 24: w1: -444.51, J: 1837865.00\n",
        "Iteration 25: w1: 762.48, J: 2182904.73'''\n",
        "\n",
        "# did the cost steadily decrease as training progressed?\n",
        "#Yes, the cost steadily decreased.\n",
        "\n",
        "# did the gradient descent algorithm converge?\n",
        "#Yes, the algorithm converged\n",
        "\n",
        "# what is the minimum cost?\n",
        "# 32832.50\n",
        "\n",
        "# what is the optimal value of w1?\n",
        "# 60.00\n",
        "\n",
        "# in how many iterations did gradient descent converge (at which row # in the output)?\n",
        "#The initial value was the most optimal one."
      ]
    },
    {
      "cell_type": "markdown",
      "source": [
        "## Exercise 2 (Single Neuron)"
      ],
      "metadata": {
        "id": "16sJ8vw2lFf7"
      }
    },
    {
      "cell_type": "markdown",
      "source": [
        "### Then, you will apply deep learning thinking in modeling a single neuron to build logistic regression and linear regression models. You need also to Apply the idea of vectorization to efficiently train your models and implement gradient descent from scratch (using multiple iterations of the forward pass, backward propagation, and gradient descent steps) to minimize the loss functions and determine model parameters.\n",
        "\n",
        "### Specifically, there are two parts in this assignment:\n",
        "* In the first part, you will train a logistic regression model using the breast cancer data set. This part has 7 parts (2.1.1 through 2.1.7) that you will need to code (see framework for more details).\n",
        "* In the second part, you will train a linear regression model using the diabetes data set. This part has 7 parts (2.2.1 through 2.2.7) that you will need to code (see framework for more details)."
      ],
      "metadata": {
        "id": "PgCVy2aUgUMj"
      }
    },
    {
      "cell_type": "code",
      "source": [
        "### DO NOT EDIT THIS CELL!!!\n",
        "### DO NOT IMPORT ANY ADDITIONAL PACKAGES\n",
        "\n",
        "import numpy as np\n",
        "import scipy\n",
        "from sklearn import metrics\n",
        "import matplotlib.pyplot as plt\n",
        "%matplotlib inline"
      ],
      "metadata": {
        "id": "VM2vgB55gcPu"
      },
      "execution_count": 2,
      "outputs": []
    },
    {
      "cell_type": "markdown",
      "source": [
        "### PART 1\n",
        "\n",
        "* Logistic Regression for Binary Classification using the breast cancer dataset\n",
        "\n",
        "* We aren't going to preprocess data or split into train/test since the focus here is purely on the gradient descent algorithm\n",
        "\n",
        "* NOTE: YOU WILL ONLY EDIT ONE CELL FOR PART-1 (SEE BELOW) (5% for each step, but 25% in total)"
      ],
      "metadata": {
        "id": "SG7_IZIVhzGZ"
      }
    },
    {
      "cell_type": "code",
      "source": [
        "### DO NOT EDIT THIS CELL!!!\n",
        "\n",
        "# read the breast cancer dataset from sklearn\n",
        "from sklearn.datasets import load_breast_cancer\n",
        "\n",
        "dataset = load_breast_cancer()\n",
        "\n",
        "# feature matrix X: mxn\n",
        "X = dataset.data\n",
        "print (\"X: \", X.shape)\n",
        "\n",
        "# target vector y: mx1\n",
        "y = dataset.target\n",
        "y = y.reshape(y.shape[0], 1)\n",
        "print (\"y: \", y.shape)\n",
        "\n",
        "# number of samples: m\n",
        "m = X.shape[0]\n",
        "print (\"m: \", m)\n",
        "\n",
        "# number of features: n\n",
        "n = X.shape[1]\n",
        "features = dataset.feature_names\n",
        "print (\"n: \",n)\n",
        "print (\"features: \", features)"
      ],
      "metadata": {
        "id": "2P8AGX0PhoCA",
        "colab": {
          "base_uri": "https://localhost:8080/"
        },
        "outputId": "967eeb8a-a0b5-4a04-d399-92f1f1726e04"
      },
      "execution_count": null,
      "outputs": [
        {
          "output_type": "stream",
          "name": "stdout",
          "text": [
            "X:  (569, 30)\n",
            "y:  (569, 1)\n",
            "m:  569\n",
            "n:  30\n",
            "features:  ['mean radius' 'mean texture' 'mean perimeter' 'mean area'\n",
            " 'mean smoothness' 'mean compactness' 'mean concavity'\n",
            " 'mean concave points' 'mean symmetry' 'mean fractal dimension'\n",
            " 'radius error' 'texture error' 'perimeter error' 'area error'\n",
            " 'smoothness error' 'compactness error' 'concavity error'\n",
            " 'concave points error' 'symmetry error' 'fractal dimension error'\n",
            " 'worst radius' 'worst texture' 'worst perimeter' 'worst area'\n",
            " 'worst smoothness' 'worst compactness' 'worst concavity'\n",
            " 'worst concave points' 'worst symmetry' 'worst fractal dimension']\n"
          ]
        }
      ]
    },
    {
      "cell_type": "code",
      "source": [
        "### THIS IS THE ONLY CELL YOU MUST EDIT FOR PART-1\n",
        "from scipy.special import expit\n",
        "\n",
        "# train the logistic regression model\n",
        "\n",
        "# initializae hyperparameters nepochs and alpha\n",
        "nepochs = 5000\n",
        "alpha = 2.5e-6\n",
        "\n",
        "# initialize model parameters w and b\n",
        "w = np.zeros((n,1))\n",
        "b = 0\n",
        "\n",
        "# this list will collect loss for each iteration\n",
        "costs = []\n",
        "\n",
        "# repeat for nepochs\n",
        "### (2.1.1) YOUR CODE HERE\n",
        "# for....\n",
        "for i in range(nepochs):\n",
        "\n",
        "    # forward pass (calculate current loss)\n",
        "    ### (2.1.2) YOUR CODE HERE\n",
        "    z = np.dot(X, w) + b\n",
        "    yhat = expit(z)\n",
        "    cost = - np.mean(y * np.log(yhat) + (1 - y) * np.log(1 - yhat))\n",
        "\n",
        "\n",
        "    # backward propagation (calculate current gradient)\n",
        "    ### (2.1.3) YOUR CODE HERE\n",
        "    dz = yhat - y\n",
        "    dw = (1 / m) * np.dot(X.T, dz)\n",
        "    db = (1 / m) * np.sum(dz)\n",
        "\n",
        "\n",
        "    # gradient descent (update parameters)\n",
        "    ### (2.1.4) YOUR CODE HERE\n",
        "    w = w - alpha * dw\n",
        "    b = b - alpha * db\n",
        "\n",
        "    # append loss to costs: This step is done to keep track of how the loss changes over the course of training\n",
        "    # Costs: It is likely initialized as an empty list before the training loop. It is used to store the loss values at each iteration.\n",
        "    ### (2.1.5) YOUR CODE HERE\n",
        "    if i % 100 == 0:  # record the cost every 100 iterations for visualization\n",
        "        costs.append(cost)\n",
        "\n",
        "\n",
        "# use final parameters w and b to calcualte accuracy for training data X, y\n",
        "#  - do a single forward pass for X: calcualte z, yhat\n",
        "#  - set yhat to round(yhat) (that is, thresholding binary classification prediction at 0.5)\n",
        "#  - calcualte metrics.accuracy_score(y, yhat) and print it\n",
        "### (2.1.6) YOUR CODE HERE\n",
        "z = np.dot(X, w) + b\n",
        "yhat = expit(z)\n",
        "yhat = yhat > 0.5\n",
        "accuracy = metrics.accuracy_score(y, yhat.round())\n",
        "print(f\"Accuracy: {accuracy}\")\n",
        "\n",
        "\n",
        "# use plt.plot(costs)  to plot  costs against iterations and show the plot\n",
        "### (2.1.7) YOUR CODE HERE\n",
        "plt.plot(list(range(0, nepochs, 100)), costs)  # plotting every 100th iteration\n",
        "plt.title('Loss over Iterations')\n",
        "plt.xlabel('Iterations (x100)')\n",
        "plt.ylabel('Loss')\n",
        "plt.show()\n"
      ],
      "metadata": {
        "id": "4H6Zy2Oxh5Gc",
        "colab": {
          "base_uri": "https://localhost:8080/",
          "height": 489
        },
        "outputId": "373b8aaf-a1bc-4ba4-e02d-5560774fee11"
      },
      "execution_count": null,
      "outputs": [
        {
          "output_type": "stream",
          "name": "stdout",
          "text": [
            "Accuracy: 0.9191564147627417\n"
          ]
        },
        {
          "output_type": "display_data",
          "data": {
            "text/plain": [
              "<Figure size 640x480 with 1 Axes>"
            ],
            "image/png": "[encoded data removed]"
          },
          "metadata": {}
        }
      ]
    },
    {
      "cell_type": "code",
      "source": [
        "### DO NOT EDIT THIS CELL!!!\n",
        "\n",
        "# compare results from your implementation to that of SGDClassifier\n",
        "# your accuracy score above should match (or be very close to) what you get from here\n",
        "\n",
        "nepochs = 5000\n",
        "alpha = 2.5e-6\n",
        "y = y.reshape(y.shape[0],) # to avoid warning\n",
        "\n",
        "from sklearn.linear_model import SGDClassifier\n",
        "clf = SGDClassifier(loss='log', # loss function for logistic regression\n",
        "                    penalty=None, alpha=0, # no regularization\n",
        "                    max_iter=nepochs, tol=None, # stop based only on nepochs\n",
        "                    shuffle=False, random_state=0, # don't shuffle, use random state to replicate results\n",
        "                    learning_rate='constant', eta0=alpha) # constant learning rate of alpha\n",
        "clf.fit(X,y)\n",
        "print (round(clf.score(X,y),2))"
      ],
      "metadata": {
        "id": "9C3LactGiB2c",
        "colab": {
          "base_uri": "https://localhost:8080/"
        },
        "outputId": "d16c1c67-0ba4-4806-c1db-673c218e859c"
      },
      "execution_count": null,
      "outputs": [
        {
          "output_type": "stream",
          "name": "stderr",
          "text": [
            "/usr/local/lib/python3.10/dist-packages/sklearn/linear_model/_stochastic_gradient.py:163: FutureWarning: The loss 'log' was deprecated in v1.1 and will be removed in version 1.3. Use `loss='log_loss'` which is equivalent.\n",
            "  warnings.warn(\n"
          ]
        },
        {
          "output_type": "stream",
          "name": "stdout",
          "text": [
            "0.92\n"
          ]
        }
      ]
    },
    {
      "cell_type": "markdown",
      "source": [
        "### Part 2\n",
        "\n",
        "* Linear Regression using the diabetes dataset\n",
        "\n",
        "* We aren't going to preprocess data or split  into train/test since the focus here is purely on the gradient descent algorithm\n",
        "\n",
        "* NOTE: YOU WILL ONLY EDIT ONE CELL FOR PART-2 (SEE BELOW) (5% for each step, but 25% in total)"
      ],
      "metadata": {
        "id": "gYG7VIaliH4K"
      }
    },
    {
      "cell_type": "code",
      "source": [
        "### DO NOT EDIT THIS CELL!!!\n",
        "\n",
        "# read the diabetes dataset from sklearn\n",
        "from sklearn.datasets import load_diabetes\n",
        "\n",
        "dataset = load_diabetes()\n",
        "\n",
        "# feature matrix X: mxn\n",
        "X = dataset.data\n",
        "print (\"X: \", X.shape)\n",
        "\n",
        "# target vector y: mx1\n",
        "y = dataset.target\n",
        "y = y.reshape(y.shape[0], 1)\n",
        "print (\"y: \", y.shape)\n",
        "\n",
        "# number of samples: m\n",
        "m = X.shape[0]\n",
        "print (\"m: \", m)\n",
        "\n",
        "# number of features: n\n",
        "n = X.shape[1]\n",
        "features = dataset.feature_names\n",
        "print (\"n: \",n)\n",
        "print (\"features: \", features)"
      ],
      "metadata": {
        "colab": {
          "base_uri": "https://localhost:8080/"
        },
        "id": "V9RvTJufggDs",
        "outputId": "074fbe77-a689-469b-e350-389b4175feb6"
      },
      "execution_count": 1,
      "outputs": [
        {
          "output_type": "stream",
          "name": "stdout",
          "text": [
            "X:  (442, 10)\n",
            "y:  (442, 1)\n",
            "m:  442\n",
            "n:  10\n",
            "features:  ['age', 'sex', 'bmi', 'bp', 's1', 's2', 's3', 's4', 's5', 's6']\n"
          ]
        }
      ]
    },
    {
      "cell_type": "code",
      "source": [
        "### THIS IS THE ONLY CELL YOU MUST EDIT FOR PART-2\n",
        "\n",
        "# train the linear regression model\n",
        "\n",
        "# initialize hyperparameters nepochs and alpha\n",
        "nepochs = 5000\n",
        "alpha = 0.5\n",
        "\n",
        "# initialize model paramters w and b\n",
        "w = np.zeros((n,1))\n",
        "b = 0\n",
        "\n",
        "# this list will collect loss for each iteration\n",
        "costs = []\n",
        "\n",
        "# repeat for nepochs\n",
        "### (2.2.1) YOUR CODE HERE\n",
        "# for ...\n",
        "for i in range(nepochs):\n",
        "\n",
        "    # forward pass (calculate current loss)\n",
        "    ### (2.2.2) YOUR CODE HERE\n",
        "    z = X @ w + b\n",
        "    yhat = z\n",
        "    loss = metrics.mean_squared_error(y, yhat)\n",
        "\n",
        "\n",
        "    # backward propagation (calculate current gradient)\n",
        "    ### (2.2.3) YOUR CODE HERE\n",
        "    dw = (1/m) * np.dot(X.T, (yhat - y))\n",
        "    db = (1/m) * np.sum(yhat - y)\n",
        "\n",
        "\n",
        "    # gradient descent (update parameters)\n",
        "    ### (2.2.4) YOUR CODE HERE\n",
        "    w = w - alpha * dw\n",
        "    b = b - alpha * db\n",
        "\n",
        "\n",
        "    # append loss to costs: This step is done to keep track of how the loss changes over the course of training\n",
        "    # Costs: It is likely initialized as an empty list before the training loop. It is used to store the loss values at each iteration.\n",
        "    ### (2.2.5) YOUR COD HERE\n",
        "    costs.append(loss)\n",
        "\n",
        "\n",
        "# use final parameters w and b to calcualte mse and r2 for training data X, y\n",
        "#  - do a single forward pass for X: calcualte z, yhat\n",
        "#  - calculate metrics.mean_squared_error(y, yhat) and print it\n",
        "#  - calculate metrics.r2_score(y, yhat) and print it\n",
        "### (2.2.6) YOUR CODE HERE\n",
        "mse = metrics.mean_squared_error(y, yhat)\n",
        "r2 = metrics.r2_score(y, yhat)\n",
        "print(f\"Mean Squared Error: {mse}\")\n",
        "print(f\"R^2 Score: {r2}\")\n",
        "\n",
        "\n",
        "# use plt.plot(costs) to plot costs against iterations and show the plot\n",
        "### (2.2.7) YOUR CODE HERE\n",
        "plt.plot(costs)\n",
        "plt.title('Loss over Epochs')\n",
        "plt.xlabel('Epochs')\n",
        "plt.ylabel('Loss')\n",
        "plt.show()\n"
      ],
      "metadata": {
        "colab": {
          "base_uri": "https://localhost:8080/",
          "height": 507
        },
        "id": "gX_UCTa0gqJX",
        "outputId": "efa8be35-80da-4d48-910c-13cf3dc84a2c"
      },
      "execution_count": 3,
      "outputs": [
        {
          "output_type": "stream",
          "name": "stdout",
          "text": [
            "Mean Squared Error: 2880.494764772686\n",
            "R^2 Score: 0.5142410325243421\n"
          ]
        },
        {
          "output_type": "display_data",
          "data": {
            "text/plain": [
              "<Figure size 640x480 with 1 Axes>"
            ],
            "image/png": "[encoded data removed]"
          },
          "metadata": {}
        }
      ]
    },
    {
      "cell_type": "code",
      "source": [
        "### DO NOT EDIT THIS CELL!!!\n",
        "\n",
        "# compare results from our implementation to that of SGDRegressor\n",
        "# your mse and r2 score above should match (or be very close to) what you get from here\n",
        "\n",
        "nepochs = 5000\n",
        "alpha = 0.5\n",
        "y = y.reshape(y.shape[0],) # to avoid warning\n",
        "\n",
        "from sklearn.linear_model import SGDRegressor\n",
        "clf = SGDRegressor(loss='squared_error', # mse for linear regression\n",
        "                    penalty=None, alpha=0, # no regularization\n",
        "                    max_iter=nepochs, tol=None, # stop based on only on nepochs\n",
        "                    shuffle=False, random_state=0, # don't shuffle, use random state to replicate results\n",
        "                    learning_rate='constant', eta0=alpha) # constant learning rate of alpha\n",
        "clf.fit(X,y)\n",
        "yhat = clf.predict(X)\n",
        "print (round(metrics.mean_squared_error(y, yhat),2))\n",
        "print (round(clf.score(X,y),2))"
      ],
      "metadata": {
        "id": "t0fI3RBEiTGx",
        "colab": {
          "base_uri": "https://localhost:8080/"
        },
        "outputId": "fc8de55f-c027-42f0-a235-7f7103d6755a"
      },
      "execution_count": 4,
      "outputs": [
        {
          "output_type": "stream",
          "name": "stdout",
          "text": [
            "2922.89\n",
            "0.51\n"
          ]
        }
      ]
    },
    {
      "cell_type": "markdown",
      "source": [
        "## Acknowledgment\n",
        "\n",
        "Yes, I have used the help of GenAI tools."
      ],
      "metadata": {
        "id": "nxneXnBSqLgk"
      }
    }
  ],
  "metadata": {
    "kernelspec": {
      "display_name": "Python 3",
      "language": "python",
      "name": "python3"
    },
    "language_info": {
      "codemirror_mode": {
        "name": "ipython",
        "version": 3
      },
      "file_extension": ".py",
      "mimetype": "text/x-python",
      "name": "python",
      "nbconvert_exporter": "python",
      "pygments_lexer": "ipython3",
      "version": "3.8.5"
    },
    "colab": {
      "provenance": []
    }
  },
  "nbformat": 4,
  "nbformat_minor": 0
}