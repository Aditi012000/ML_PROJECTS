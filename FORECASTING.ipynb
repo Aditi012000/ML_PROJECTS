{
 "cells": [
  {
   "cell_type": "code",
   "execution_count": 2,
   "id": "a82ffe1b",
   "metadata": {},
   "outputs": [],
   "source": [
    "import numpy as np\n",
    "from sklearn.linear_model import LinearRegression\n",
    "from sklearn.metrics import r2_score"
   ]
  },
  {
   "cell_type": "code",
   "execution_count": 4,
   "id": "b3e58073",
   "metadata": {},
   "outputs": [
    {
     "name": "stdout",
     "output_type": "stream",
     "text": [
      "Correlation Matrix:\n",
      "[[1.         0.94494644]\n",
      " [0.94494644 1.        ]]\n",
      "\n",
      "Sum of Squared Errors (SSE): 10077210014.232574\n"
     ]
    }
   ],
   "source": [
    "\n",
    "\n",
    "# Define the square footage (independent variable)\n",
    "square_footage = np.array([2117, 2557, 1892, 1477, 3284, 2091, 2679])\n",
    "\n",
    "# Define the selling price (dependent variable)\n",
    "selling_price = np.array([315000, 320000, 177900, 178500, 540000, 319500, 394000])\n",
    "\n",
    "# Reshape the data to make it a 2D array (required by scikit-learn)\n",
    "square_footage = square_footage.reshape(-1, 1)\n",
    "\n",
    "# Create a linear regression model\n",
    "model = LinearRegression()\n",
    "\n",
    "# Fit the model to the data\n",
    "model.fit(square_footage, selling_price)\n",
    "\n",
    "# Make predictions using the model\n",
    "predicted_prices = model.predict(square_footage)\n",
    "\n",
    "# Calculate the correlation matrix\n",
    "correlation_matrix = np.corrcoef(square_footage.squeeze(), selling_price)\n",
    "\n",
    "# Calculate the sum of squared errors (SSE)\n",
    "sse = np.sum((selling_price - predicted_prices) ** 2)\n",
    "\n",
    "# Print the correlation matrix and SSE\n",
    "print(\"Correlation Matrix:\")\n",
    "print(correlation_matrix)\n",
    "\n",
    "print(\"\\nSum of Squared Errors (SSE):\", sse)\n"
   ]
  },
  {
   "cell_type": "code",
   "execution_count": 5,
   "id": "96bce43f",
   "metadata": {},
   "outputs": [
    {
     "ename": "NameError",
     "evalue": "name 'data' is not defined",
     "output_type": "error",
     "traceback": [
      "\u001b[1;31m---------------------------------------------------------------------------\u001b[0m",
      "\u001b[1;31mNameError\u001b[0m                                 Traceback (most recent call last)",
      "Cell \u001b[1;32mIn[5], line 5\u001b[0m\n\u001b[0;32m      2\u001b[0m model \u001b[38;5;241m=\u001b[39m LinearRegression()\n\u001b[0;32m      4\u001b[0m \u001b[38;5;66;03m# Fit the model to the data\u001b[39;00m\n\u001b[1;32m----> 5\u001b[0m model\u001b[38;5;241m.\u001b[39mfit(data[[\u001b[38;5;124m'\u001b[39m\u001b[38;5;124mSquareFootage\u001b[39m\u001b[38;5;124m'\u001b[39m]], data[\u001b[38;5;124m'\u001b[39m\u001b[38;5;124mSellingPrice\u001b[39m\u001b[38;5;124m'\u001b[39m])\n\u001b[0;32m      7\u001b[0m \u001b[38;5;66;03m# Calculate the correlation matrix\u001b[39;00m\n\u001b[0;32m      8\u001b[0m correlation_matrix \u001b[38;5;241m=\u001b[39m data\u001b[38;5;241m.\u001b[39mcorr()\n",
      "\u001b[1;31mNameError\u001b[0m: name 'data' is not defined"
     ]
    }
   ],
   "source": []
  },
  {
   "cell_type": "code",
   "execution_count": 6,
   "id": "00afbbf9",
   "metadata": {},
   "outputs": [
    {
     "name": "stdout",
     "output_type": "stream",
     "text": [
      "Demand Forecast:\n",
      "Month 3: 32.00\n",
      "Month 4: 41.50\n",
      "Month 5: 49.50\n",
      "\n",
      "MAPE: 22.25412457437402\n",
      "MAD: 11.333333333333334\n",
      "MSD: 135.83333333333334\n"
     ]
    }
   ],
   "source": [
    "import numpy as np\n",
    "\n",
    "# Given data\n",
    "months = [1, 2, 3, 4, 5]\n",
    "sales = [28, 36, 47, 52, 58]\n",
    "\n",
    "# Initialize variables for forecasts and errors\n",
    "forecasted_demand = []\n",
    "absolute_percentage_errors = []\n",
    "absolute_deviation = []\n",
    "squared_deviation = []\n",
    "\n",
    "# Calculate the 2-month moving average and forecast demand\n",
    "for i in range(2, len(sales)):\n",
    "    two_month_avg = (sales[i - 2] + sales[i - 1]) / 2\n",
    "    forecasted_demand.append(two_month_avg)\n",
    "\n",
    "# Calculate MAPE, MAD, and MSD\n",
    "for actual, forecast in zip(sales[2:], forecasted_demand):\n",
    "    absolute_error = abs(actual - forecast)\n",
    "    absolute_percentage_error = (absolute_error / actual) * 100\n",
    "    absolute_deviation.append(absolute_error)\n",
    "    absolute_percentage_errors.append(absolute_percentage_error)\n",
    "    squared_deviation.append(absolute_error ** 2)\n",
    "\n",
    "# Calculate the mean absolute percentage error (MAPE)\n",
    "mape = np.mean(absolute_percentage_errors)\n",
    "\n",
    "# Calculate the mean absolute deviation (MAD)\n",
    "mad = np.mean(absolute_deviation)\n",
    "\n",
    "# Calculate the mean squared deviation (MSD)\n",
    "msd = np.mean(squared_deviation)\n",
    "\n",
    "# Print the results\n",
    "print(\"Demand Forecast:\")\n",
    "for month, forecast in zip(months[2:], forecasted_demand):\n",
    "    print(f\"Month {month}: {forecast:.2f}\")\n",
    "\n",
    "print(\"\\nMAPE:\", mape)\n",
    "print(\"MAD:\", mad)\n",
    "print(\"MSD:\", msd)\n"
   ]
  },
  {
   "cell_type": "code",
   "execution_count": 14,
   "id": "df8a523f",
   "metadata": {},
   "outputs": [
    {
     "name": "stdout",
     "output_type": "stream",
     "text": [
      "Demand Forecast:\n",
      "Month 3: 32.00\n",
      "Month 4: 41.50\n",
      "Month 5: 49.50\n",
      "Month 6: 55.00\n",
      "Month 7: 49.50\n",
      "\n",
      "MAPE: 22.25412457437402\n",
      "MAD: 11.333333333333334\n",
      "MSD: 135.83333333333334\n"
     ]
    }
   ],
   "source": [
    "import numpy as np\n",
    "\n",
    "# Given data\n",
    "months = [1, 2, 3, 4, 5]\n",
    "sales = [28, 36, 47, 52, 58]\n",
    "\n",
    "# Initialize variables for forecasts and errors\n",
    "forecasted_demand = []\n",
    "absolute_percentage_errors = []\n",
    "absolute_deviation = []\n",
    "squared_deviation = []\n",
    "\n",
    "# Calculate the 2-month moving average and forecast demand\n",
    "for i in range(2, len(sales)):\n",
    "    two_month_avg = (sales[i - 2] + sales[i - 1]) / 2\n",
    "    forecasted_demand.append(two_month_avg)\n",
    "\n",
    "# Forecast for month 6 (add this part)\n",
    "f6=forecasted_demand.append((sales[-2] + sales[-1]) / 2)\n",
    "f7 = forecasted_demand.append((sales[-3]+sales[-2])/2)\n",
    "# Calculate MAPE, MAD, and MSD\n",
    "for actual, forecast in zip(sales[2:], forecasted_demand):\n",
    "    absolute_error = abs(actual - forecast)\n",
    "    absolute_percentage_error = (absolute_error / actual) * 100\n",
    "    absolute_deviation.append(absolute_error)\n",
    "    absolute_percentage_errors.append(absolute_percentage_error)\n",
    "    squared_deviation.append(absolute_error ** 2)\n",
    "\n",
    "# Calculate the mean absolute percentage error (MAPE)\n",
    "mape = np.mean(absolute_percentage_errors)\n",
    "\n",
    "# Calculate the mean absolute deviation (MAD)\n",
    "mad = np.mean(absolute_deviation)\n",
    "\n",
    "# Calculate the mean squared deviation (MSD)\n",
    "msd = np.mean(squared_deviation)\n",
    "\n",
    "# Print the results\n",
    "print(\"Demand Forecast:\")\n",
    "for month, forecast in zip(months, forecasted_demand):\n",
    "    print(f\"Month {month + 2}: {forecast:.2f}\")\n",
    "\n",
    "print(\"\\nMAPE:\", mape)\n",
    "print(\"MAD:\", mad)\n",
    "print(\"MSD:\", msd)\n",
    "\n"
   ]
  },
  {
   "cell_type": "code",
   "execution_count": null,
   "id": "77761204",
   "metadata": {},
   "outputs": [],
   "source": []
  }
 ],
 "metadata": {
  "kernelspec": {
   "display_name": "Python 3 (ipykernel)",
   "language": "python",
   "name": "python3"
  },
  "language_info": {
   "codemirror_mode": {
    "name": "ipython",
    "version": 3
   },
   "file_extension": ".py",
   "mimetype": "text/x-python",
   "name": "python",
   "nbconvert_exporter": "python",
   "pygments_lexer": "ipython3",
   "version": "3.11.4"
  }
 },
 "nbformat": 4,
 "nbformat_minor": 5
}
